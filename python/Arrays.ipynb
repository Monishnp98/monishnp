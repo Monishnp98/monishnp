{
 "cells": [
  {
   "cell_type": "markdown",
   "id": "c398817b-484e-4076-acdf-87b40f16cea2",
   "metadata": {},
   "source": [
    "##TWO POINTER'S"
   ]
  },
  {
   "cell_type": "markdown",
   "id": "71e08536-322a-4c2c-8985-bdddfbc4131a",
   "metadata": {},
   "source": [
    "1)Swap elements : "
   ]
  },
  {
   "cell_type": "code",
   "execution_count": 11,
   "id": "c1d22808-3b1d-44fb-adda-fb0af7311ed2",
   "metadata": {},
   "outputs": [
    {
     "name": "stdout",
     "output_type": "stream",
     "text": [
      "[8, 7, 6, 5, 4, 2]\n"
     ]
    }
   ],
   "source": [
    "def reverse(Arr):\n",
    "    n= len(Arr)\n",
    "    i=0\n",
    "    j=n-1\n",
    "    while i < j:                       #i < j not i<n\n",
    "        Arr[i],Arr[j] = Arr[j],Arr[i]\n",
    "        i+=1\n",
    "        j-=1\n",
    "    return Arr\n",
    "    \n",
    "Arr = [2,4,5,6,7,8]\n",
    "print(reverse(Arr))"
   ]
  },
  {
   "cell_type": "markdown",
   "id": "e8f498f1-4d23-4e92-a574-e88d7bfcd889",
   "metadata": {},
   "source": [
    "#2) Write a function to segregate Even and odd "
   ]
  },
  {
   "cell_type": "code",
   "execution_count": 24,
   "id": "2ffb8264-882e-4d18-8f83-ba049a29d88f",
   "metadata": {},
   "outputs": [
    {
     "name": "stdout",
     "output_type": "stream",
     "text": [
      "[2, 4, 6, 8, 9, 1, 3, 7, 5]\n"
     ]
    }
   ],
   "source": [
    "def segerate(nums):\n",
    "    n = len(nums)\n",
    "    i = -1\n",
    "    j = 0\n",
    "    while j != n-1:\n",
    "        if nums[j] % 2 == 0:\n",
    "            i+=1\n",
    "            nums[i],nums[j] = nums[j],nums[i]\n",
    "        j+=1\n",
    "    return nums\n",
    "    \n",
    "nums = [7,2,9,4,6,1,3,8,5]\n",
    "print(segerate(nums))"
   ]
  },
  {
   "cell_type": "code",
   "execution_count": null,
   "id": "0107d03d-52bd-4ff1-886e-d57106f8d065",
   "metadata": {},
   "outputs": [],
   "source": []
  }
 ],
 "metadata": {
  "kernelspec": {
   "display_name": "Python 3 (ipykernel)",
   "language": "python",
   "name": "python3"
  },
  "language_info": {
   "codemirror_mode": {
    "name": "ipython",
    "version": 3
   },
   "file_extension": ".py",
   "mimetype": "text/x-python",
   "name": "python",
   "nbconvert_exporter": "python",
   "pygments_lexer": "ipython3",
   "version": "3.12.0"
  }
 },
 "nbformat": 4,
 "nbformat_minor": 5
}
