{
 "cells": [
  {
   "cell_type": "markdown",
   "id": "eaf51de1-f7ce-4692-8ecd-dce39a698d09",
   "metadata": {},
   "source": [
    "## Reverse a string"
   ]
  },
  {
   "cell_type": "code",
   "execution_count": 2,
   "id": "f60f70e8-8736-4fa5-b0c0-907d66230b9a",
   "metadata": {},
   "outputs": [
    {
     "name": "stdout",
     "output_type": "stream",
     "text": [
      "hsinom\n"
     ]
    }
   ],
   "source": [
    "# Reverse a string\n",
    "def reverse_str(value):\n",
    "    rev_str = []\n",
    "    n = len(value)\n",
    "    for i in range(n-1,-1,-1):\n",
    "        rev_str.append(arr[i])\n",
    "\n",
    "    x= ''.join(rev_str)\n",
    "    return x\n",
    "\n",
    "arr = 'monish'\n",
    "print(reverse_str(arr))"
   ]
  },
  {
   "cell_type": "markdown",
   "id": "bb65fcaa-e982-4760-b0b1-b89bc1f737ea",
   "metadata": {},
   "source": [
    "## Reverse a srtring with Stack "
   ]
  },
  {
   "cell_type": "code",
   "execution_count": null,
   "id": "0addb54d-dc91-4391-8913-2232833d31b4",
   "metadata": {},
   "outputs": [],
   "source": [
    "'''\n",
    "APPROACH:\n",
    "    1)Create a emtpy stack(List)\n",
    "    2)Traverse through the list and appened the char to the stack\n",
    "    3)Create a emty string\n",
    "    4)Pop the elements from the stack and add it ot the nwe_strig, until all the elemts are removed\n",
    "'''\n",
    "def reverse(string):\n",
    "    stack = []\n",
    "\n",
    "    for char in string:\n",
    "        stack.append(char)\n",
    "\n",
    "    reverse_string = ''\n",
    "    while stack:\n",
    "        reverse_string += stack.pop()\n",
    "    return reverse_string\n",
    "\n",
    "\n",
    "string = 'Practice'\n",
    "print(reverse(string))"
   ]
  },
  {
   "cell_type": "markdown",
   "id": "2b2973b0-ab80-49a5-9ab7-710a2c9fe1fd",
   "metadata": {},
   "source": [
    "# Reverse a list without slicing  - Two Pointer"
   ]
  },
  {
   "cell_type": "code",
   "execution_count": 26,
   "id": "b3744e40-8f64-4187-8d56-35432ae05e9d",
   "metadata": {},
   "outputs": [],
   "source": [
    "def reverse_arr(arr):\n",
    "    i = 0\n",
    "    j = len(arr)-1\n",
    "    while i <=j:\n",
    "        arr[i], arr[j] = arr[j],arr[i]\n",
    "        i+=1\n",
    "        j-=1\n",
    "    return arr"
   ]
  },
  {
   "cell_type": "code",
   "execution_count": 31,
   "id": "2544957c-b29b-4884-80f9-d525359fb343",
   "metadata": {},
   "outputs": [
    {
     "name": "stdout",
     "output_type": "stream",
     "text": [
      "['h', 's', 'i', 'n', 'o', 'm']\n"
     ]
    }
   ],
   "source": [
    "L = ['m','o','n','i','s','h']\n",
    "print(reverse_arr(L))"
   ]
  },
  {
   "cell_type": "markdown",
   "id": "5f69d496-4da6-4975-b1fe-ff7a530820f3",
   "metadata": {},
   "source": [
    "##  Write a Python program to find the second-highest number in a list of integers."
   ]
  },
  {
   "cell_type": "code",
   "execution_count": 60,
   "id": "753d6c6c-b7d2-4917-97fa-6e3eedc7d132",
   "metadata": {},
   "outputs": [],
   "source": [
    "def big2(arr):\n",
    "    big1 = float(\"-inf\")\n",
    "    big2 = float(\"-inf\")\n",
    "    \n",
    "    for i in arr:\n",
    "        if i > big2:\n",
    "            big2=i\n",
    "        if big2 > big1:\n",
    "            big1, big2 = big2, big1\n",
    "    \n",
    "    return big2"
   ]
  },
  {
   "cell_type": "code",
   "execution_count": 61,
   "id": "8fe3bbbd-85bf-4191-9cd9-602c9dec86fa",
   "metadata": {},
   "outputs": [
    {
     "name": "stdout",
     "output_type": "stream",
     "text": [
      "9\n"
     ]
    }
   ],
   "source": [
    "arr = [10,2,4,7,8,9]\n",
    "print(big2(arr))"
   ]
  },
  {
   "cell_type": "code",
   "execution_count": 66,
   "id": "40e0fc40-b11a-46fd-a942-2876c7c48aed",
   "metadata": {},
   "outputs": [
    {
     "data": {
      "text/plain": [
       "9"
      ]
     },
     "execution_count": 66,
     "metadata": {},
     "output_type": "execute_result"
    }
   ],
   "source": [
    "# USING IN BUILT FUNCTONS\n",
    "arr = [10,2,4,7,8,9]\n",
    "arr.sort(reverse = True)\n",
    "arr[1]"
   ]
  },
  {
   "cell_type": "markdown",
   "id": "7ae28465-dfb0-4af3-a806-d3e7c4a6b109",
   "metadata": {},
   "source": [
    "### Write a Python script to identify unique values in a LIST  and count their occurrences. This tests your understanding of sets and dictionaries."
   ]
  },
  {
   "cell_type": "code",
   "execution_count": 70,
   "id": "e27e701b-bb87-4aaa-97a5-584c134031db",
   "metadata": {},
   "outputs": [],
   "source": [
    "def occurances(arr):\n",
    "    dic = {}\n",
    "    for i in arr:\n",
    "        if i not in dic:\n",
    "            dic[i]=1\n",
    "        else:\n",
    "            dic[i]+=1\n",
    "    \n",
    "    return dic"
   ]
  },
  {
   "cell_type": "code",
   "execution_count": 80,
   "id": "422dd86f-0993-4db3-b851-68beb24a7393",
   "metadata": {},
   "outputs": [
    {
     "name": "stdout",
     "output_type": "stream",
     "text": [
      "3\n",
      "{1: 2, 2: 1, 3: 2, 4: 3, 8: 1}\n",
      "{1, 2, 3, 4, 8}\n"
     ]
    }
   ],
   "source": [
    "a = [1,2,3,4,4,1,3,4,8]\n",
    "# print(a.count(4))\n",
    "print(occurances(a))\n",
    "print(set(a))"
   ]
  },
  {
   "cell_type": "code",
   "execution_count": 3,
   "id": "6d7dbde7-b8ee-4557-8c26-59b2ad771a00",
   "metadata": {},
   "outputs": [
    {
     "name": "stdout",
     "output_type": "stream",
     "text": [
      "[0, 1, 3, 3, 4, 6, 9, 12]\n"
     ]
    }
   ],
   "source": [
    "# Sort a List WITHOUT using Sort keyword. | sa.sort() sort and modify the origial list | sorted(sa) will not sort original list\n",
    "sa = [3,1,4,6,9, 12,0,3]\n",
    "sa.sort()\n",
    "print(sa)"
   ]
  },
  {
   "cell_type": "code",
   "execution_count": 4,
   "id": "7585500b-0b50-459f-8888-a3f84bc3220d",
   "metadata": {},
   "outputs": [
    {
     "data": {
      "text/plain": [
       "[3, 1, 4, 6, 9, 12, 0, 3]"
      ]
     },
     "execution_count": 4,
     "metadata": {},
     "output_type": "execute_result"
    }
   ],
   "source": [
    "sa1 = [3,1,4,6,9, 12,0,3]\n",
    "sorted(sa)\n",
    "sa1"
   ]
  },
  {
   "cell_type": "markdown",
   "id": "1859c1a9-fb52-44b1-beae-eca5da1dc2c5",
   "metadata": {},
   "source": [
    "## Bubble sort"
   ]
  },
  {
   "cell_type": "code",
   "execution_count": 21,
   "id": "1e70575e-9c5e-4ef9-8dfa-6aa4216b7786",
   "metadata": {},
   "outputs": [],
   "source": [
    "# Bubble sort - FYI https://www.youtube.com/watch?v=Vca808JTbI8\n",
    "def sort_lst(arr):\n",
    "    n = len(arr)\n",
    "    for i in range(n):\n",
    "        for j in range(0,n-i-1):\n",
    "            if arr[j] > arr[j+1]:\n",
    "                arr[j], arr[j+1] = arr[j+1], arr[j]\n",
    "    return (arr)"
   ]
  },
  {
   "cell_type": "code",
   "execution_count": 22,
   "id": "748f711e-f36d-481a-b950-300220020401",
   "metadata": {},
   "outputs": [
    {
     "name": "stdout",
     "output_type": "stream",
     "text": [
      "[1, 2, 5, 7, 9]\n"
     ]
    }
   ],
   "source": [
    "arr = [5, 2, 9, 1, 7]\n",
    "print(sort_lst(arr))"
   ]
  },
  {
   "cell_type": "markdown",
   "id": "7813d37e-71a3-4a40-b103-231986ed6e40",
   "metadata": {},
   "source": [
    "##  Find the pair of numbers in the list whose sum is equal to a target number n"
   ]
  },
  {
   "cell_type": "code",
   "execution_count": 1,
   "id": "b0d18bad-1cfd-4acb-8557-771945730186",
   "metadata": {},
   "outputs": [],
   "source": [
    "numbers = [2, 4, 7, 11, 15, 1, 8]\n",
    "target_sum = 9\n",
    "# expeced outut - [(2, 7), (8, 1)]"
   ]
  },
  {
   "cell_type": "code",
   "execution_count": 77,
   "id": "6594eaf8-a335-4d94-94b7-1107a3abf8ec",
   "metadata": {},
   "outputs": [
    {
     "data": {
      "text/plain": [
       "[(2, 7), (1, 8)]"
      ]
     },
     "execution_count": 77,
     "metadata": {},
     "output_type": "execute_result"
    }
   ],
   "source": [
    "# i =2 >> coml not in seen >> no append >> add i to seen >> when i=7 , com = 2 , com found in seen >> add the pair.\n",
    "    \n",
    "def find_pairs(nums, target):\n",
    "    seen = set()    #If you dont use Set you will end up having duplicate pairs\n",
    "    result = []\n",
    "\n",
    "    for num in nums:\n",
    "        complement = target - num\n",
    "        if complement in seen:\n",
    "            result.append((complement, num))\n",
    "        seen.add(num) # important step\n",
    "\n",
    "    return result\n",
    "nums = [2, 4, 7, 11, 15, 1, 8]\n",
    "target = 9\n",
    "find_pairs(nums, target)"
   ]
  },
  {
   "cell_type": "markdown",
   "id": "cc79842f-2c82-49f1-87f9-cde85e5f3726",
   "metadata": {},
   "source": [
    "## Valid Paranthesis"
   ]
  },
  {
   "cell_type": "code",
   "execution_count": 75,
   "id": "2dc4c406-a120-40bb-bd5f-57b84e13f4ef",
   "metadata": {},
   "outputs": [],
   "source": [
    "string = \"[{()}]\""
   ]
  },
  {
   "cell_type": "code",
   "execution_count": 76,
   "id": "f79fd218-3ad0-47f3-9c0f-eb6034816ee6",
   "metadata": {},
   "outputs": [
    {
     "name": "stdout",
     "output_type": "stream",
     "text": [
      "True\n"
     ]
    }
   ],
   "source": [
    "def valid_par(string):\n",
    "    stack = []\n",
    "    for char in string:\n",
    "        if char in '({[':\n",
    "            stack.append(char)\n",
    "        elif char in '}])':\n",
    "            if not stack:\n",
    "                return False\n",
    "            \n",
    "            pop_item = stack.pop()\n",
    "            if char == '(' and pop_item != ')' or \\\n",
    "               char == '{' and pop_item != '}' or \\\n",
    "               char == '[' and pop_item != ']':\n",
    "                return False\n",
    "                    \n",
    "    if stack:\n",
    "        return False\n",
    "    else:\n",
    "        return True\n",
    "\n",
    "print(valid_par(string))"
   ]
  },
  {
   "cell_type": "markdown",
   "id": "ece0b23a-31a2-49f7-93fd-f0a35e443923",
   "metadata": {},
   "source": [
    "## List Comprehensions and Dict Comprehensions\n",
    "#### List comprehension offers a shorter syntax when you want to create a new list based on the values of an existing list."
   ]
  },
  {
   "cell_type": "code",
   "execution_count": 7,
   "id": "0d8eb29e-1953-4d8d-b522-d3adfb845be0",
   "metadata": {},
   "outputs": [
    {
     "name": "stdout",
     "output_type": "stream",
     "text": [
      "[1, 4, 9, 16, 25, 36]\n"
     ]
    }
   ],
   "source": [
    "# Square of Numbers until \"Square of Numbers\"\n",
    "def square_no(n):\n",
    "    result = [i**2 for i in range(1,n+1)]\n",
    "    return result\n",
    "\n",
    "print(square_no(6))"
   ]
  },
  {
   "cell_type": "code",
   "execution_count": 14,
   "id": "393c66c2-157d-42f6-af5a-e56ca5baeeab",
   "metadata": {},
   "outputs": [
    {
     "name": "stdout",
     "output_type": "stream",
     "text": [
      "[2, 4, 6, 8, 10]\n"
     ]
    }
   ],
   "source": [
    "# Even no until n:\n",
    "def even_no(n):\n",
    "     lst = [i for i in range(1,n+1) if i%2 == 0]\n",
    "     return lst\n",
    "\n",
    "print(even_no(10))"
   ]
  },
  {
   "cell_type": "markdown",
   "id": "c20a0c84-abbe-430d-9951-38a528a3cfc8",
   "metadata": {},
   "source": [
    "## String ANAGRAM\n",
    "\n",
    "construct a dic with frequency of each element from str1\n",
    "\n",
    "loop through str2 | check of value of str2 in str1, if not found return -1\n",
    "\n",
    "else reduce the current value of str2 in str1.\n",
    "\n",
    "Finally check if all the values in dic = 0. If yes return True, Else False\n"
   ]
  },
  {
   "cell_type": "code",
   "execution_count": 37,
   "id": "eecfb6c3-8647-4ca8-8f5c-533b3ca08a64",
   "metadata": {},
   "outputs": [
    {
     "name": "stdout",
     "output_type": "stream",
     "text": [
      "-1\n"
     ]
    }
   ],
   "source": [
    "s1= 'moni'\n",
    "s2= 'mnoii'\n",
    "\n",
    "def anaagram(s1,s2):\n",
    "        dic = {}\n",
    "        for i in s1:\n",
    "            if i not in dic:\n",
    "                dic[i]=1\n",
    "            else:\n",
    "                dic[i]+=1\n",
    "        for j in s2:\n",
    "            if j in dic:\n",
    "                dic[j]-=1\n",
    "            else:\n",
    "                return -1\n",
    "        \n",
    "        for k in dic.values():\n",
    "            if k!=0:\n",
    "                return -1\n",
    "        return 1\n",
    "\n",
    "print(anaagram(s1,s2))"
   ]
  },
  {
   "cell_type": "markdown",
   "id": "e7473084-c3f0-45cc-b575-b9010269f455",
   "metadata": {},
   "source": [
    "## Write a Python function that calculates the factorial of a number recursively?"
   ]
  },
  {
   "cell_type": "code",
   "execution_count": null,
   "id": "90feaafe-ecb2-4f59-ba73-0db10ab75ecd",
   "metadata": {},
   "outputs": [],
   "source": []
  },
  {
   "cell_type": "code",
   "execution_count": null,
   "id": "454f151a-1b8a-4bfb-92b9-42b9ada15e88",
   "metadata": {},
   "outputs": [],
   "source": []
  },
  {
   "cell_type": "markdown",
   "id": "40eb8d00-491e-40c6-9c26-af18154e6a18",
   "metadata": {},
   "source": [
    "## Binary Serach"
   ]
  },
  {
   "cell_type": "code",
   "execution_count": 15,
   "id": "979978f4-fb82-4ccd-8c7a-b6d125026ab4",
   "metadata": {},
   "outputs": [
    {
     "name": "stdout",
     "output_type": "stream",
     "text": [
      "8\n"
     ]
    }
   ],
   "source": [
    "def binary_serach(bin_list,tgt):\n",
    "    i=0\n",
    "    j=len(bin_list)-1\n",
    "    while i <=j:  # < or = eq\n",
    "        mid = (i+j)//2\n",
    "        if bin_list[mid] == tgt:\n",
    "            return mid\n",
    "        elif bin_list[mid] < tgt:\n",
    "            i = mid+1\n",
    "        elif bin_list[mid] > tgt:\n",
    "            j = mid-1\n",
    "    \n",
    "    return -1\n",
    "\n",
    "bin_list = [3, 8, 15, 21, 29, 36, 42, 57, 63, 78, 84, 95]\n",
    "tgt = 63 \n",
    "print(binary_serach(bin_list,tgt))"
   ]
  },
  {
   "cell_type": "markdown",
   "id": "11b8d984-6da9-4a44-ae3e-9d97820fc12d",
   "metadata": {},
   "source": [
    "## Prime Number"
   ]
  },
  {
   "cell_type": "code",
   "execution_count": null,
   "id": "5b5cfe07-feff-465d-9b3a-d2f58b78cea4",
   "metadata": {},
   "outputs": [],
   "source": []
  },
  {
   "cell_type": "markdown",
   "id": "b5c32b21-cc8a-4995-8c9c-e29217c77bd2",
   "metadata": {},
   "source": [
    "## Kandes Algorithm"
   ]
  },
  {
   "cell_type": "code",
   "execution_count": null,
   "id": "915306fc-d919-4dd3-b10b-e9f964a6bbc4",
   "metadata": {},
   "outputs": [],
   "source": []
  },
  {
   "cell_type": "markdown",
   "id": "be6e9e62-1f5e-4e17-b6ad-772adf074c3d",
   "metadata": {},
   "source": [
    "## Rotate an Array"
   ]
  },
  {
   "cell_type": "code",
   "execution_count": null,
   "id": "1fc2acd0-2418-4f86-96bb-964839cc9a9e",
   "metadata": {},
   "outputs": [],
   "source": []
  },
  {
   "cell_type": "markdown",
   "id": "0b253d45-d11b-4e98-b7b4-bea19218d14e",
   "metadata": {},
   "source": [
    "## Pattern in string"
   ]
  },
  {
   "cell_type": "code",
   "execution_count": null,
   "id": "b81936b3-f545-428a-a647-abf125c269c1",
   "metadata": {},
   "outputs": [],
   "source": []
  },
  {
   "cell_type": "markdown",
   "id": "6e34168e-8d14-4ca9-a6b6-3e9916d7aca7",
   "metadata": {},
   "source": [
    "## Common/Most used mentods of list , dic, Tuple, set and string"
   ]
  },
  {
   "cell_type": "code",
   "execution_count": null,
   "id": "1304935d-523a-461e-9e0a-455bedc99867",
   "metadata": {},
   "outputs": [],
   "source": []
  }
 ],
 "metadata": {
  "kernelspec": {
   "display_name": "Python 3 (ipykernel)",
   "language": "python",
   "name": "python3"
  },
  "language_info": {
   "codemirror_mode": {
    "name": "ipython",
    "version": 3
   },
   "file_extension": ".py",
   "mimetype": "text/x-python",
   "name": "python",
   "nbconvert_exporter": "python",
   "pygments_lexer": "ipython3",
   "version": "3.12.0"
  }
 },
 "nbformat": 4,
 "nbformat_minor": 5
}
