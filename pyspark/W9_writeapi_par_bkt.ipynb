{
 "cells": [
  {
   "cell_type": "markdown",
   "id": "a0f1de11",
   "metadata": {},
   "source": [
    "## writer api's.\n",
    "\n",
    "#### Mode of writitng back to disk -overwrite, append,ignore,errorIfExists\n",
    "\n",
    "#### patitioning, bucketing, fileformat"
   ]
  },
  {
   "cell_type": "markdown",
   "id": "89b9b990",
   "metadata": {},
   "source": [
    "1)we use partition By based on a column while writing the file back to the disk.\n",
    "\n",
    "2)multiple folders will e created based on the unique values in that col\n",
    "\n",
    "3)Each folder will multiple file based on the number of partitions that the df had when it was created\n",
    "\n",
    "4)When there are a large number of distinct values, we can't use partition BY.\n",
    "\n",
    "5)Thats why we have bucketing"
   ]
  },
  {
   "cell_type": "markdown",
   "id": "db9c8e33",
   "metadata": {},
   "source": [
    "#### 1)Open a Spark Notebook and create a spark base dataframe by reading all the files under /public/sms/users folder. "
   ]
  },
  {
   "cell_type": "code",
   "execution_count": 1,
   "id": "7429a442",
   "metadata": {},
   "outputs": [
    {
     "name": "stdout",
     "output_type": "stream",
     "text": [
      "Found 10 items\n",
      "-rw-r--r--   2 hdfs supergroup     28.1 M 2021-01-28 11:30 /public/sms/users/users_01.json\n",
      "-rw-r--r--   2 hdfs supergroup     28.2 M 2021-01-28 09:18 /public/sms/users/users_02.json\n",
      "-rw-r--r--   2 hdfs supergroup     28.2 M 2021-01-28 09:07 /public/sms/users/users_03.json\n",
      "-rw-r--r--   2 hdfs supergroup     28.2 M 2021-01-28 09:00 /public/sms/users/users_04.json\n",
      "-rw-r--r--   2 hdfs supergroup     28.2 M 2021-01-28 11:13 /public/sms/users/users_05.json\n",
      "-rw-r--r--   2 hdfs supergroup     28.2 M 2021-01-28 11:03 /public/sms/users/users_06.json\n",
      "-rw-r--r--   2 hdfs supergroup     28.2 M 2021-01-28 11:01 /public/sms/users/users_07.json\n",
      "-rw-r--r--   2 hdfs supergroup     28.2 M 2021-01-28 08:51 /public/sms/users/users_08.json\n",
      "-rw-r--r--   2 hdfs supergroup     28.2 M 2021-01-28 11:19 /public/sms/users/users_09.json\n",
      "-rw-r--r--   2 hdfs supergroup     28.2 M 2021-01-28 09:20 /public/sms/users/users_10.json\n"
     ]
    }
   ],
   "source": [
    "! hadoop fs -ls -h /public/sms/users"
   ]
  },
  {
   "cell_type": "code",
   "execution_count": 29,
   "id": "cbd6dab3",
   "metadata": {},
   "outputs": [],
   "source": [
    "from pyspark.sql import SparkSession\n",
    "import getpass\n",
    "username = getpass.getuser()\n",
    "spark= SparkSession. \\\n",
    "builder. \\\n",
    "config('spark.ui.port','0'). \\\n",
    "config(\"spark.sql.warehouse.dir\", f\"/user/{username}/warehouse\"). \\\n",
    "enableHiveSupport(). \\\n",
    "master('yarn'). \\\n",
    "getOrCreate()"
   ]
  },
  {
   "cell_type": "code",
   "execution_count": 3,
   "id": "c074c0d2",
   "metadata": {},
   "outputs": [
    {
     "data": {
      "text/html": [
       "\n",
       "            <div>\n",
       "                <p><b>SparkSession - hive</b></p>\n",
       "                \n",
       "        <div>\n",
       "            <p><b>SparkContext</b></p>\n",
       "\n",
       "            <p><a href=\"http://g02.itversity.com:34673\">Spark UI</a></p>\n",
       "\n",
       "            <dl>\n",
       "              <dt>Version</dt>\n",
       "                <dd><code>v3.1.2</code></dd>\n",
       "              <dt>Master</dt>\n",
       "                <dd><code>yarn</code></dd>\n",
       "              <dt>AppName</dt>\n",
       "                <dd><code>pyspark-shell</code></dd>\n",
       "            </dl>\n",
       "        </div>\n",
       "        \n",
       "            </div>\n",
       "        "
      ],
      "text/plain": [
       "<pyspark.sql.session.SparkSession at 0x7fa4dd315710>"
      ]
     },
     "execution_count": 3,
     "metadata": {},
     "output_type": "execute_result"
    }
   ],
   "source": [
    "spark"
   ]
  },
  {
   "cell_type": "code",
   "execution_count": 30,
   "id": "b9e3df67",
   "metadata": {},
   "outputs": [],
   "source": [
    "from pyspark.sql.types import StructType, StructField, StringType,IntegerType,ArrayType"
   ]
  },
  {
   "cell_type": "code",
   "execution_count": 31,
   "id": "3f60fc37",
   "metadata": {},
   "outputs": [],
   "source": [
    " #creating schema for reading the json file\n",
    "IntegerType, ArrayType\n",
    " users_schema = StructType([\n",
    " StructField(\"user_id\", IntegerType(), nullable=False),\n",
    " StructField(\"user_first_name\", StringType(), nullable=False),\n",
    " StructField(\"user_last_name\", StringType(), nullable=False),\n",
    " StructField(\"user_email\", StringType(), nullable=False),\n",
    " StructField(\"user_gender\", StringType(), nullable=False),\n",
    " StructField(\"user_phone_numbers\", ArrayType(StringType()),\n",
    " nullable=True),\n",
    " StructField(\"user_address\", StructType([\n",
    " StructField(\"street\", StringType(), nullable=False),\n",
    " StructField(\"city\", StringType(), nullable=False),\n",
    " StructField(\"state\", StringType(), nullable=False),\n",
    " StructField(\"postal_code\", StringType(), nullable=False),\n",
    " ]), nullable=False)\n",
    " ])"
   ]
  },
  {
   "cell_type": "code",
   "execution_count": 32,
   "id": "9bb4b2f1",
   "metadata": {},
   "outputs": [],
   "source": [
    "base_df = spark.read \\\n",
    ".format('json') \\\n",
    ".options(schema=users_schema) \\\n",
    ".load(\"/public/sms/users/*\")"
   ]
  },
  {
   "cell_type": "code",
   "execution_count": 7,
   "id": "a3310347",
   "metadata": {},
   "outputs": [
    {
     "data": {
      "text/plain": [
       "4"
      ]
     },
     "execution_count": 7,
     "metadata": {},
     "output_type": "execute_result"
    }
   ],
   "source": [
    "# 1)Do check how many partitions are created  in your dataframe.\n",
    "base_df.rdd.getNumPartitions()"
   ]
  },
  {
   "cell_type": "code",
   "execution_count": 8,
   "id": "744f6d3c",
   "metadata": {},
   "outputs": [],
   "source": [
    "# 2) Do some basic analysis and find out the following"
   ]
  },
  {
   "cell_type": "code",
   "execution_count": 9,
   "id": "377dd27f",
   "metadata": {},
   "outputs": [
    {
     "name": "stdout",
     "output_type": "stream",
     "text": [
      "+----------------------------------------------------------+--------------------------------+---------------+-----------+-------+--------------+------------------------------------------------------------+\n",
      "|user_address                                              |user_email                      |user_first_name|user_gender|user_id|user_last_name|user_phone_numbers                                          |\n",
      "+----------------------------------------------------------+--------------------------------+---------------+-----------+-------+--------------+------------------------------------------------------------+\n",
      "|{Dallas, 75358, Texas, 8 Warrior Drive}                   |ecutsforth0@wisc.edu            |Eirena         |Female     |200001 |Cutsforth     |[4197404036, 9173828061, 4027467939, 3371963735]            |\n",
      "|{Joliet, 60435, Illinois, 66 Prairieview Terrace}         |mshopcott1@hexun.com            |Marja          |Female     |200002 |Shopcott      |[9542037028, 2128289053, 4068088779, 2621495368, 9038414778]|\n",
      "|{Shawnee Mission, 66225, Kansas, 18 Ronald Regan Hill}    |dtointon2@ucsd.edu              |Dawn           |Female     |200003 |Tointon       |[9523035647, 2134982789, 6615999645]                        |\n",
      "|{Saint Paul, 55166, Minnesota, 7696 Calypso Junction}     |gleaman3@360.cn                 |Goldi          |Female     |200004 |Leaman        |[2027069459, 7042854979, 2058662100, 2156494557, 3612541912]|\n",
      "|{Albuquerque, 87110, New Mexico, 942 Emmet Park}          |bhallagan4@livejournal.com      |Brewster       |Male       |200005 |Hallagan      |[8134746319, 2152769457]                                    |\n",
      "|{Virginia Beach, 23454, Virginia, 664 Ridge Oak Circle}   |fglashby5@deviantart.com        |Florence       |Female     |200006 |Glashby       |[7571763565, 7134157643, 6109401875, 6789261652, 2023724495]|\n",
      "|{Young America, 55557, Minnesota, 4 Continental Drive}    |zphilimore6@webeden.co.uk       |Zollie         |Male       |200007 |Philimore     |[7865450177, 8019242051]                                    |\n",
      "|{Tucson, 85725, Arizona, 44698 Arapahoe Park}             |framelot7@alexa.com             |Ferdinand      |Male       |200008 |Ramelot       |[8164055187]                                                |\n",
      "|{null, null, null, null}                                  |rgreystoke8@digg.com            |Ruddy          |Male       |200009 |Greystoke     |null                                                        |\n",
      "|{North Las Vegas, 89087, Nevada, 9430 Reinke Park}        |gbeeho9@webmd.com               |Gilles         |Male       |200010 |Beeho         |[5599886694, 5201911221]                                    |\n",
      "|{Warren, 44485, Ohio, 688 Granby Point}                   |akitchinhama@naver.com          |Axel           |Male       |200011 |Kitchinham    |[2036913158]                                                |\n",
      "|{North Little Rock, 72199, Arkansas, 3997 Russell Parkway}|mpearmineb@github.com           |Moreen         |Female     |200012 |Pearmine      |[4047148129]                                                |\n",
      "|{Shawnee Mission, 66220, Kansas, 89 Fair Oaks Terrace}    |jadsheadc@joomla.org            |Joceline       |Female     |200013 |Adshead       |[3134837460, 3022947366, 7702373822, 7166720430]            |\n",
      "|{Fort Wayne, 46814, Indiana, 3 Green Pass}                |rmenichid@nationalgeographic.com|Roxie          |Female     |200014 |Menichi       |[6148474898, 9034594283, 2812388853, 9282129221]            |\n",
      "|{Sacramento, 94286, California, 2 Butterfield Crossing}   |sfloode@delicious.com           |Selena         |Female     |200015 |Flood         |[7274706417, 4026151021, 7578520296]                        |\n",
      "|{null, null, null, null}                                  |lmarkovicf@usa.gov              |Leoine         |Female     |200016 |Markovic      |null                                                        |\n",
      "|{Miami, 33147, Florida, 1 Sheridan Pass}                  |jsvanettig@theglobeandmail.com  |Judi           |Female     |200017 |Svanetti      |[2158389703, 8169206363, 7149845960, 8019197400, 3105149676]|\n",
      "|{Missoula, 59806, Montana, 60 Oak Valley Street}          |hhapkeh@nps.gov                 |Hildegarde     |Female     |200018 |Hapke         |[8183692525]                                                |\n",
      "|{Wichita Falls, 76310, Texas, 5 Vera Point}               |hdommetti@tinyurl.com           |Hanni          |Female     |200019 |Dommett       |[7868201036, 7048546511, 2029024266, 3012635847]            |\n",
      "|{Kansas City, 64160, Missouri, 52636 Heath Alley}         |rgaskoinj@mozilla.com           |Rupert         |Male       |200020 |Gaskoin       |[5623065887, 9198293554, 8061474652]                        |\n",
      "+----------------------------------------------------------+--------------------------------+---------------+-----------+-------+--------------+------------------------------------------------------------+\n",
      "only showing top 20 rows\n",
      "\n"
     ]
    }
   ],
   "source": [
    "base_df.show(truncate=False)"
   ]
  },
  {
   "cell_type": "code",
   "execution_count": 33,
   "id": "79e980c5",
   "metadata": {},
   "outputs": [],
   "source": [
    "from pyspark.sql.functions import col,size\n",
    "base_df.withColumn(\"user_street\",col(\"user_Address.street\")) \\\n",
    ".withColumn(\"user_city\",col(\"user_address.city\")) \\\n",
    ".withColumn(\"user_state\", col(\"user_Address.state\")) \\\n",
    ".withColumn(\"user_postal_code\", col(\"user_address.postal_code\")) \\\n",
    ".withColumn(\"num_phn_numbers\",\n",
    "size(col(\"user_phone_numbers\"))).createOrReplaceTempView(\"users_vw\")"
   ]
  },
  {
   "cell_type": "code",
   "execution_count": 11,
   "id": "fd588efe",
   "metadata": {},
   "outputs": [
    {
     "data": {
      "text/html": [
       "<table border='1'>\n",
       "<tr><th>user_address</th><th>user_email</th><th>user_first_name</th><th>user_gender</th><th>user_id</th><th>user_last_name</th><th>user_phone_numbers</th><th>user_street</th><th>user_city</th><th>user_state</th><th>user_postal_code</th><th>num_phn_numbers</th></tr>\n",
       "<tr><td>{Dallas, 75358, T...</td><td>ecutsforth0@wisc.edu</td><td>Eirena</td><td>Female</td><td>200001</td><td>Cutsforth</td><td>[4197404036, 9173...</td><td>8 Warrior Drive</td><td>Dallas</td><td>Texas</td><td>75358</td><td>4</td></tr>\n",
       "<tr><td>{Joliet, 60435, I...</td><td>mshopcott1@hexun.com</td><td>Marja</td><td>Female</td><td>200002</td><td>Shopcott</td><td>[9542037028, 2128...</td><td>66 Prairieview Te...</td><td>Joliet</td><td>Illinois</td><td>60435</td><td>5</td></tr>\n",
       "<tr><td>{Shawnee Mission,...</td><td>dtointon2@ucsd.edu</td><td>Dawn</td><td>Female</td><td>200003</td><td>Tointon</td><td>[9523035647, 2134...</td><td>18 Ronald Regan Hill</td><td>Shawnee Mission</td><td>Kansas</td><td>66225</td><td>3</td></tr>\n",
       "<tr><td>{Saint Paul, 5516...</td><td>gleaman3@360.cn</td><td>Goldi</td><td>Female</td><td>200004</td><td>Leaman</td><td>[2027069459, 7042...</td><td>7696 Calypso Junc...</td><td>Saint Paul</td><td>Minnesota</td><td>55166</td><td>5</td></tr>\n",
       "<tr><td>{Albuquerque, 871...</td><td>bhallagan4@livejo...</td><td>Brewster</td><td>Male</td><td>200005</td><td>Hallagan</td><td>[8134746319, 2152...</td><td>942 Emmet Park</td><td>Albuquerque</td><td>New Mexico</td><td>87110</td><td>2</td></tr>\n",
       "<tr><td>{Virginia Beach, ...</td><td>fglashby5@deviant...</td><td>Florence</td><td>Female</td><td>200006</td><td>Glashby</td><td>[7571763565, 7134...</td><td>664 Ridge Oak Circle</td><td>Virginia Beach</td><td>Virginia</td><td>23454</td><td>5</td></tr>\n",
       "<tr><td>{Young America, 5...</td><td>zphilimore6@webed...</td><td>Zollie</td><td>Male</td><td>200007</td><td>Philimore</td><td>[7865450177, 8019...</td><td>4 Continental Drive</td><td>Young America</td><td>Minnesota</td><td>55557</td><td>2</td></tr>\n",
       "<tr><td>{Tucson, 85725, A...</td><td>framelot7@alexa.com</td><td>Ferdinand</td><td>Male</td><td>200008</td><td>Ramelot</td><td>[8164055187]</td><td>44698 Arapahoe Park</td><td>Tucson</td><td>Arizona</td><td>85725</td><td>1</td></tr>\n",
       "<tr><td>{null, null, null...</td><td>rgreystoke8@digg.com</td><td>Ruddy</td><td>Male</td><td>200009</td><td>Greystoke</td><td>null</td><td>null</td><td>null</td><td>null</td><td>null</td><td>-1</td></tr>\n",
       "<tr><td>{North Las Vegas,...</td><td>gbeeho9@webmd.com</td><td>Gilles</td><td>Male</td><td>200010</td><td>Beeho</td><td>[5599886694, 5201...</td><td>9430 Reinke Park</td><td>North Las Vegas</td><td>Nevada</td><td>89087</td><td>2</td></tr>\n",
       "<tr><td>{Warren, 44485, O...</td><td>akitchinhama@nave...</td><td>Axel</td><td>Male</td><td>200011</td><td>Kitchinham</td><td>[2036913158]</td><td>688 Granby Point</td><td>Warren</td><td>Ohio</td><td>44485</td><td>1</td></tr>\n",
       "<tr><td>{North Little Roc...</td><td>mpearmineb@github...</td><td>Moreen</td><td>Female</td><td>200012</td><td>Pearmine</td><td>[4047148129]</td><td>3997 Russell Parkway</td><td>North Little Rock</td><td>Arkansas</td><td>72199</td><td>1</td></tr>\n",
       "<tr><td>{Shawnee Mission,...</td><td>jadsheadc@joomla.org</td><td>Joceline</td><td>Female</td><td>200013</td><td>Adshead</td><td>[3134837460, 3022...</td><td>89 Fair Oaks Terrace</td><td>Shawnee Mission</td><td>Kansas</td><td>66220</td><td>4</td></tr>\n",
       "<tr><td>{Fort Wayne, 4681...</td><td>rmenichid@nationa...</td><td>Roxie</td><td>Female</td><td>200014</td><td>Menichi</td><td>[6148474898, 9034...</td><td>3 Green Pass</td><td>Fort Wayne</td><td>Indiana</td><td>46814</td><td>4</td></tr>\n",
       "<tr><td>{Sacramento, 9428...</td><td>sfloode@delicious...</td><td>Selena</td><td>Female</td><td>200015</td><td>Flood</td><td>[7274706417, 4026...</td><td>2 Butterfield Cro...</td><td>Sacramento</td><td>California</td><td>94286</td><td>3</td></tr>\n",
       "<tr><td>{null, null, null...</td><td>lmarkovicf@usa.gov</td><td>Leoine</td><td>Female</td><td>200016</td><td>Markovic</td><td>null</td><td>null</td><td>null</td><td>null</td><td>null</td><td>-1</td></tr>\n",
       "<tr><td>{Miami, 33147, Fl...</td><td>jsvanettig@theglo...</td><td>Judi</td><td>Female</td><td>200017</td><td>Svanetti</td><td>[2158389703, 8169...</td><td>1 Sheridan Pass</td><td>Miami</td><td>Florida</td><td>33147</td><td>5</td></tr>\n",
       "<tr><td>{Missoula, 59806,...</td><td>hhapkeh@nps.gov</td><td>Hildegarde</td><td>Female</td><td>200018</td><td>Hapke</td><td>[8183692525]</td><td>60 Oak Valley Street</td><td>Missoula</td><td>Montana</td><td>59806</td><td>1</td></tr>\n",
       "<tr><td>{Wichita Falls, 7...</td><td>hdommetti@tinyurl...</td><td>Hanni</td><td>Female</td><td>200019</td><td>Dommett</td><td>[7868201036, 7048...</td><td>5 Vera Point</td><td>Wichita Falls</td><td>Texas</td><td>76310</td><td>4</td></tr>\n",
       "<tr><td>{Kansas City, 641...</td><td>rgaskoinj@mozilla...</td><td>Rupert</td><td>Male</td><td>200020</td><td>Gaskoin</td><td>[5623065887, 9198...</td><td>52636 Heath Alley</td><td>Kansas City</td><td>Missouri</td><td>64160</td><td>3</td></tr>\n",
       "</table>\n",
       "only showing top 20 rows\n"
      ],
      "text/plain": [
       "+--------------------+--------------------+---------------+-----------+-------+--------------+--------------------+--------------------+-----------------+----------+----------------+---------------+\n",
       "|        user_address|          user_email|user_first_name|user_gender|user_id|user_last_name|  user_phone_numbers|         user_street|        user_city|user_state|user_postal_code|num_phn_numbers|\n",
       "+--------------------+--------------------+---------------+-----------+-------+--------------+--------------------+--------------------+-----------------+----------+----------------+---------------+\n",
       "|{Dallas, 75358, T...|ecutsforth0@wisc.edu|         Eirena|     Female| 200001|     Cutsforth|[4197404036, 9173...|     8 Warrior Drive|           Dallas|     Texas|           75358|              4|\n",
       "|{Joliet, 60435, I...|mshopcott1@hexun.com|          Marja|     Female| 200002|      Shopcott|[9542037028, 2128...|66 Prairieview Te...|           Joliet|  Illinois|           60435|              5|\n",
       "|{Shawnee Mission,...|  dtointon2@ucsd.edu|           Dawn|     Female| 200003|       Tointon|[9523035647, 2134...|18 Ronald Regan Hill|  Shawnee Mission|    Kansas|           66225|              3|\n",
       "|{Saint Paul, 5516...|     gleaman3@360.cn|          Goldi|     Female| 200004|        Leaman|[2027069459, 7042...|7696 Calypso Junc...|       Saint Paul| Minnesota|           55166|              5|\n",
       "|{Albuquerque, 871...|bhallagan4@livejo...|       Brewster|       Male| 200005|      Hallagan|[8134746319, 2152...|      942 Emmet Park|      Albuquerque|New Mexico|           87110|              2|\n",
       "|{Virginia Beach, ...|fglashby5@deviant...|       Florence|     Female| 200006|       Glashby|[7571763565, 7134...|664 Ridge Oak Circle|   Virginia Beach|  Virginia|           23454|              5|\n",
       "|{Young America, 5...|zphilimore6@webed...|         Zollie|       Male| 200007|     Philimore|[7865450177, 8019...| 4 Continental Drive|    Young America| Minnesota|           55557|              2|\n",
       "|{Tucson, 85725, A...| framelot7@alexa.com|      Ferdinand|       Male| 200008|       Ramelot|        [8164055187]| 44698 Arapahoe Park|           Tucson|   Arizona|           85725|              1|\n",
       "|{null, null, null...|rgreystoke8@digg.com|          Ruddy|       Male| 200009|     Greystoke|                null|                null|             null|      null|            null|             -1|\n",
       "|{North Las Vegas,...|   gbeeho9@webmd.com|         Gilles|       Male| 200010|         Beeho|[5599886694, 5201...|    9430 Reinke Park|  North Las Vegas|    Nevada|           89087|              2|\n",
       "|{Warren, 44485, O...|akitchinhama@nave...|           Axel|       Male| 200011|    Kitchinham|        [2036913158]|    688 Granby Point|           Warren|      Ohio|           44485|              1|\n",
       "|{North Little Roc...|mpearmineb@github...|         Moreen|     Female| 200012|      Pearmine|        [4047148129]|3997 Russell Parkway|North Little Rock|  Arkansas|           72199|              1|\n",
       "|{Shawnee Mission,...|jadsheadc@joomla.org|       Joceline|     Female| 200013|       Adshead|[3134837460, 3022...|89 Fair Oaks Terrace|  Shawnee Mission|    Kansas|           66220|              4|\n",
       "|{Fort Wayne, 4681...|rmenichid@nationa...|          Roxie|     Female| 200014|       Menichi|[6148474898, 9034...|        3 Green Pass|       Fort Wayne|   Indiana|           46814|              4|\n",
       "|{Sacramento, 9428...|sfloode@delicious...|         Selena|     Female| 200015|         Flood|[7274706417, 4026...|2 Butterfield Cro...|       Sacramento|California|           94286|              3|\n",
       "|{null, null, null...|  lmarkovicf@usa.gov|         Leoine|     Female| 200016|      Markovic|                null|                null|             null|      null|            null|             -1|\n",
       "|{Miami, 33147, Fl...|jsvanettig@theglo...|           Judi|     Female| 200017|      Svanetti|[2158389703, 8169...|     1 Sheridan Pass|            Miami|   Florida|           33147|              5|\n",
       "|{Missoula, 59806,...|     hhapkeh@nps.gov|     Hildegarde|     Female| 200018|         Hapke|        [8183692525]|60 Oak Valley Street|         Missoula|   Montana|           59806|              1|\n",
       "|{Wichita Falls, 7...|hdommetti@tinyurl...|          Hanni|     Female| 200019|       Dommett|[7868201036, 7048...|        5 Vera Point|    Wichita Falls|     Texas|           76310|              4|\n",
       "|{Kansas City, 641...|rgaskoinj@mozilla...|         Rupert|       Male| 200020|       Gaskoin|[5623065887, 9198...|   52636 Heath Alley|      Kansas City|  Missouri|           64160|              3|\n",
       "+--------------------+--------------------+---------------+-----------+-------+--------------+--------------------+--------------------+-----------------+----------+----------------+---------------+\n",
       "only showing top 20 rows"
      ]
     },
     "execution_count": 11,
     "metadata": {},
     "output_type": "execute_result"
    }
   ],
   "source": [
    "spark.sql(\"select * from users_vw\")"
   ]
  },
  {
   "cell_type": "code",
   "execution_count": 12,
   "id": "7ea8d64b",
   "metadata": {},
   "outputs": [
    {
     "data": {
      "text/html": [
       "<table border='1'>\n",
       "<tr><th>count(1)</th></tr>\n",
       "<tr><td>1000000</td></tr>\n",
       "</table>\n"
      ],
      "text/plain": [
       "+--------+\n",
       "|count(1)|\n",
       "+--------+\n",
       "| 1000000|\n",
       "+--------+"
      ]
     },
     "execution_count": 12,
     "metadata": {},
     "output_type": "execute_result"
    }
   ],
   "source": [
    "# a. total number of records in the dataframe\n",
    "spark.sql(\"select count(*) from users_vw\")"
   ]
  },
  {
   "cell_type": "code",
   "execution_count": 34,
   "id": "40ef1a09",
   "metadata": {},
   "outputs": [
    {
     "data": {
      "text/html": [
       "<table border='1'>\n",
       "<tr><th>unique_id</th></tr>\n",
       "<tr><td>49576</td></tr>\n",
       "</table>\n"
      ],
      "text/plain": [
       "+---------+\n",
       "|unique_id|\n",
       "+---------+\n",
       "|    49576|\n",
       "+---------+"
      ]
     },
     "execution_count": 34,
     "metadata": {},
     "output_type": "execute_result"
    }
   ],
   "source": [
    "# b. how many users are from the state New York\n",
    "spark.sql(\"select count(distinct user_id) as unique_id from users_vw where user_state = 'New York' \")"
   ]
  },
  {
   "cell_type": "code",
   "execution_count": 16,
   "id": "88339950",
   "metadata": {},
   "outputs": [
    {
     "data": {
      "text/html": [
       "<table border='1'>\n",
       "<tr><th>user_state</th><th>postal_cnt</th></tr>\n",
       "<tr><td>California</td><td>206</td></tr>\n",
       "</table>\n"
      ],
      "text/plain": [
       "+----------+----------+\n",
       "|user_state|postal_cnt|\n",
       "+----------+----------+\n",
       "|California|       206|\n",
       "+----------+----------+"
      ]
     },
     "execution_count": 16,
     "metadata": {},
     "output_type": "execute_result"
    }
   ],
   "source": [
    "#  c. which state has maximum number of postal codes\n",
    "spark.sql(\"\"\"select user_state,count(distinct user_postal_Code) as postal_cnt\n",
    " from users_vw\n",
    " group by user_state order by postal_cnt desc limit 1\"\"\")"
   ]
  },
  {
   "cell_type": "code",
   "execution_count": 17,
   "id": "395b0b20",
   "metadata": {},
   "outputs": [
    {
     "data": {
      "text/html": [
       "<table border='1'>\n",
       "<tr><th>user_city</th><th>uniq_id</th></tr>\n",
       "<tr><td>Washington</td><td>28504</td></tr>\n",
       "</table>\n"
      ],
      "text/plain": [
       "+----------+-------+\n",
       "| user_city|uniq_id|\n",
       "+----------+-------+\n",
       "|Washington|  28504|\n",
       "+----------+-------+"
      ]
     },
     "execution_count": 17,
     "metadata": {},
     "output_type": "execute_result"
    }
   ],
   "source": [
    "#  d. which city has the most number of users\n",
    "\n",
    "spark.sql(''' select user_city, count(distinct user_id) as uniq_id  from users_vw\n",
    "where user_city is not null \n",
    "group by user_city \n",
    "order by uniq_id desc limit 1\n",
    "''')"
   ]
  },
  {
   "cell_type": "code",
   "execution_count": 35,
   "id": "c048c7df",
   "metadata": {},
   "outputs": [
    {
     "data": {
      "text/html": [
       "<table border='1'>\n",
       "<tr><th>user_state</th><th>uniq_psc</th></tr>\n",
       "<tr><td>California</td><td>206</td></tr>\n",
       "</table>\n"
      ],
      "text/plain": [
       "+----------+--------+\n",
       "|user_state|uniq_psc|\n",
       "+----------+--------+\n",
       "|California|     206|\n",
       "+----------+--------+"
      ]
     },
     "execution_count": 35,
     "metadata": {},
     "output_type": "execute_result"
    }
   ],
   "source": [
    "spark.sql(''' select user_state, count(distinct user_postal_code) as uniq_psc  from users_vw\n",
    "group by user_state order by uniq_psc desc limit 1\n",
    "''')"
   ]
  },
  {
   "cell_type": "code",
   "execution_count": 19,
   "id": "5f3e5fa8",
   "metadata": {},
   "outputs": [],
   "source": [
    "# e. how many users have email domain as bizjournals.com"
   ]
  },
  {
   "cell_type": "code",
   "execution_count": 36,
   "id": "cc7543e0",
   "metadata": {},
   "outputs": [
    {
     "data": {
      "text/html": [
       "<table border='1'>\n",
       "<tr><th>as</th></tr>\n",
       "<tr><td>2015</td></tr>\n",
       "</table>\n"
      ],
      "text/plain": [
       "+----+\n",
       "|  as|\n",
       "+----+\n",
       "|2015|\n",
       "+----+"
      ]
     },
     "execution_count": 36,
     "metadata": {},
     "output_type": "execute_result"
    }
   ],
   "source": [
    "spark.sql(''' select count(*) as  from users_vw\n",
    "where user_email like '%bizjournals.com'  \n",
    "''')"
   ]
  },
  {
   "cell_type": "code",
   "execution_count": 37,
   "id": "8d2a401e",
   "metadata": {},
   "outputs": [
    {
     "data": {
      "text/html": [
       "<table border='1'>\n",
       "<tr><th>count(1)</th></tr>\n",
       "<tr><td>179041</td></tr>\n",
       "</table>\n"
      ],
      "text/plain": [
       "+--------+\n",
       "|count(1)|\n",
       "+--------+\n",
       "|  179041|\n",
       "+--------+"
      ]
     },
     "execution_count": 37,
     "metadata": {},
     "output_type": "execute_result"
    }
   ],
   "source": [
    "# f. how many users have 4 phone numbers mentioned\n",
    "spark.sql(''' select count(*)  from users_vw\n",
    "where num_phn_numbers = 4\n",
    "''')"
   ]
  },
  {
   "cell_type": "code",
   "execution_count": 38,
   "id": "b851ce22",
   "metadata": {},
   "outputs": [
    {
     "data": {
      "text/html": [
       "<table border='1'>\n",
       "<tr><th>count(1)</th></tr>\n",
       "<tr><td>108981</td></tr>\n",
       "</table>\n"
      ],
      "text/plain": [
       "+--------+\n",
       "|count(1)|\n",
       "+--------+\n",
       "|  108981|\n",
       "+--------+"
      ]
     },
     "execution_count": 38,
     "metadata": {},
     "output_type": "execute_result"
    }
   ],
   "source": [
    "#  g. how many users do not have any phone number mentioned\n",
    "spark.sql(''' select count(*)  from users_vw\n",
    "where user_phone_numbers is null\n",
    "''')"
   ]
  },
  {
   "cell_type": "code",
   "execution_count": 23,
   "id": "e93c7664",
   "metadata": {},
   "outputs": [],
   "source": [
    "# Question 3\n",
    "#  Write the data from the base dataframe as it is to the disk, but write in parquet format. Observe the number of files created, also the size of files."
   ]
  },
  {
   "cell_type": "code",
   "execution_count": 41,
   "id": "2fcab0a5",
   "metadata": {},
   "outputs": [],
   "source": [
    "base_df.write \\\n",
    ".format(\"parquet\") \\\n",
    ".mode(\"overwrite\") \\\n",
    ".option(\"path\",\"/user/itv011856/w9_assignment\") \\\n",
    ".save()"
   ]
  },
  {
   "cell_type": "code",
   "execution_count": 42,
   "id": "90310a03",
   "metadata": {},
   "outputs": [
    {
     "data": {
      "text/plain": [
       "5"
      ]
     },
     "execution_count": 42,
     "metadata": {},
     "output_type": "execute_result"
    }
   ],
   "source": [
    "base_df.rdd.getNumPartitions()"
   ]
  },
  {
   "cell_type": "code",
   "execution_count": 28,
   "id": "cf633e63",
   "metadata": {},
   "outputs": [],
   "source": [
    "# spark.stop()"
   ]
  }
 ],
 "metadata": {
  "kernelspec": {
   "display_name": "Pyspark 3",
   "language": "python",
   "name": "pyspark3"
  },
  "language_info": {
   "codemirror_mode": {
    "name": "ipython",
    "version": 3
   },
   "file_extension": ".py",
   "mimetype": "text/x-python",
   "name": "python",
   "nbconvert_exporter": "python",
   "pygments_lexer": "ipython3",
   "version": "3.6.12"
  }
 },
 "nbformat": 4,
 "nbformat_minor": 5
}
