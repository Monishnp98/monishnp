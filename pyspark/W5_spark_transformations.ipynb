{
 "cells": [
  {
   "cell_type": "code",
   "execution_count": 1,
   "id": "c22f2f83",
   "metadata": {},
   "outputs": [],
   "source": [
    " from pyspark.sql import SparkSession\n",
    " import getpass\n",
    " username = getpass.getuser()\n",
    " spark= SparkSession. \\\n",
    " builder. \\\n",
    " config('spark.ui.port','0'). \\\n",
    " config(\"spark.sql.warehouse.dir\", f\"/user/{username}/warehouse\"). \\\n",
    " enableHiveSupport(). \\\n",
    " master('yarn'). \\\n",
    " getOrCreate()"
   ]
  },
  {
   "cell_type": "code",
   "execution_count": 2,
   "id": "0f518f46",
   "metadata": {},
   "outputs": [
    {
     "data": {
      "text/html": [
       "\n",
       "            <div>\n",
       "                <p><b>SparkSession - hive</b></p>\n",
       "                \n",
       "        <div>\n",
       "            <p><b>SparkContext</b></p>\n",
       "\n",
       "            <p><a href=\"http://g02.itversity.com:33659\">Spark UI</a></p>\n",
       "\n",
       "            <dl>\n",
       "              <dt>Version</dt>\n",
       "                <dd><code>v3.1.2</code></dd>\n",
       "              <dt>Master</dt>\n",
       "                <dd><code>yarn</code></dd>\n",
       "              <dt>AppName</dt>\n",
       "                <dd><code>pyspark-shell</code></dd>\n",
       "            </dl>\n",
       "        </div>\n",
       "        \n",
       "            </div>\n",
       "        "
      ],
      "text/plain": [
       "<pyspark.sql.session.SparkSession at 0x7f06712125c0>"
      ]
     },
     "execution_count": 2,
     "metadata": {},
     "output_type": "execute_result"
    }
   ],
   "source": [
    "spark"
   ]
  },
  {
   "cell_type": "markdown",
   "id": "3c67527f",
   "metadata": {},
   "source": [
    "Question 1:\n",
    "Use the dataset given in HDFS (path : /public/trendytech/retail_db/products) and Write the spark program using Dataframes for the below tasks.\n",
    "\n",
    "To navigate and get glimpse of the the data in hdfs\n",
    "\n",
    "hadoop fs -ls <path>\n",
    "    \n",
    "hadoop fs -head<Path>     "
   ]
  },
  {
   "cell_type": "code",
   "execution_count": 3,
   "id": "b6dba6a1",
   "metadata": {},
   "outputs": [],
   "source": [
    "structure = ('ProductID string, Category string, ProductName string, Description string, Price float,ImageURL string')"
   ]
  },
  {
   "cell_type": "code",
   "execution_count": 4,
   "id": "d61f0fba",
   "metadata": {},
   "outputs": [],
   "source": [
    "# Reading the file from hdfs\n",
    "main_df = spark.read \\\n",
    ".format('csv')\\\n",
    ".schema(structure)\\\n",
    ".load(\"/public/trendytech/retail_db/products/part-00000\")"
   ]
  },
  {
   "cell_type": "code",
   "execution_count": 5,
   "id": "614fe7d5",
   "metadata": {},
   "outputs": [
    {
     "name": "stdout",
     "output_type": "stream",
     "text": [
      "+---------+--------+---------------------------------------------+-----------+------+-------------------------------------------------------------------------------------+\n",
      "|ProductID|Category|ProductName                                  |Description|Price |ImageURL                                                                             |\n",
      "+---------+--------+---------------------------------------------+-----------+------+-------------------------------------------------------------------------------------+\n",
      "|1        |2       |Quest Q64 10 FT. x 10 FT. Slant Leg Instant U|null       |59.98 |http://images.acmesports.sports/Quest+Q64+10+FT.+x+10+FT.+Slant+Leg+Instant+Up+Canopy|\n",
      "|2        |2       |Under Armour Men's Highlight MC Football Clea|null       |129.99|http://images.acmesports.sports/Under+Armour+Men%27s+Highlight+MC+Football+Cleat     |\n",
      "|3        |2       |Under Armour Men's Renegade D Mid Football Cl|null       |89.99 |http://images.acmesports.sports/Under+Armour+Men%27s+Renegade+D+Mid+Football+Cleat   |\n",
      "|4        |2       |Under Armour Men's Renegade D Mid Football Cl|null       |89.99 |http://images.acmesports.sports/Under+Armour+Men%27s+Renegade+D+Mid+Football+Cleat   |\n",
      "|5        |2       |Riddell Youth Revolution Speed Custom Footbal|null       |199.99|http://images.acmesports.sports/Riddell+Youth+Revolution+Speed+Custom+Football+Helmet|\n",
      "+---------+--------+---------------------------------------------+-----------+------+-------------------------------------------------------------------------------------+\n",
      "\n"
     ]
    }
   ],
   "source": [
    "main_df.limit(5).show(truncate = False)"
   ]
  },
  {
   "cell_type": "code",
   "execution_count": 6,
   "id": "9c87e1cd",
   "metadata": {},
   "outputs": [
    {
     "data": {
      "text/plain": [
       "1345"
      ]
     },
     "execution_count": 6,
     "metadata": {},
     "output_type": "execute_result"
    }
   ],
   "source": [
    "# 1.1 Find the total number of products in the given dataset.\n",
    "main_df.count()"
   ]
  },
  {
   "cell_type": "code",
   "execution_count": 7,
   "id": "f44e881f",
   "metadata": {},
   "outputs": [
    {
     "data": {
      "text/plain": [
       "55"
      ]
     },
     "execution_count": 7,
     "metadata": {},
     "output_type": "execute_result"
    }
   ],
   "source": [
    "# 1.2 Find the number of unique categories of products in the given dataset.\n",
    "main_df.select('Category').distinct().count()"
   ]
  },
  {
   "cell_type": "code",
   "execution_count": 8,
   "id": "4710bc48",
   "metadata": {},
   "outputs": [
    {
     "name": "stdout",
     "output_type": "stream",
     "text": [
      "+------------------------------------------------+--------+-------+-----------------------------------------------------------------------------------+\n",
      "|ProductName                                     |Category|price  |imageURL                                                                           |\n",
      "+------------------------------------------------+--------+-------+-----------------------------------------------------------------------------------+\n",
      "|SOLE E35 Elliptical                             |10      |1999.99|http://images.acmesports.sports/SOLE+E35+Elliptical                                |\n",
      "|SOLE F85 Treadmill                              |4       |1799.99|http://images.acmesports.sports/SOLE+F85+Treadmill                                 |\n",
      "|SOLE F85 Treadmill                              |10      |1799.99|http://images.acmesports.sports/SOLE+F85+Treadmill                                 |\n",
      "|SOLE F85 Treadmill                              |22      |1799.99|http://images.acmesports.sports/SOLE+F85+Treadmill                                 |\n",
      "|\"Spalding Beast 60\"\" Glass Portable Basketball \"|47      |1099.99|http://images.acmesports.sports/Spalding+Beast+60%22+Glass+Portable+Basketball+Hoop|\n",
      "+------------------------------------------------+--------+-------+-----------------------------------------------------------------------------------+\n",
      "\n"
     ]
    }
   ],
   "source": [
    "# 1.3 Find the top 5 most expensive products based on their price, along with their product name, category, and image URL.\n",
    "main_df.select('ProductName','Category','price','imageURL').orderBy('price',ascending=False).limit(5).show(truncate = False)"
   ]
  },
  {
   "cell_type": "code",
   "execution_count": 9,
   "id": "24aad852",
   "metadata": {},
   "outputs": [
    {
     "name": "stdout",
     "output_type": "stream",
     "text": [
      "+--------+------+\n",
      "|Category|no_prd|\n",
      "+--------+------+\n",
      "|      13|     1|\n",
      "|      21|     1|\n",
      "|      56|     2|\n",
      "|      24|     3|\n",
      "|      12|     3|\n",
      "|      22|     4|\n",
      "|      42|     4|\n",
      "|      25|     4|\n",
      "|      58|     4|\n",
      "|      33|     4|\n",
      "+--------+------+\n",
      "\n"
     ]
    }
   ],
   "source": [
    "# 1.4. Find the number of products in each category that have a price greater than $100. Display the results in a tabular format that shows the category\n",
    "# name and the number of products that satisfy the condition\n",
    "\n",
    "main_df.filter('price> 100').groupBy('Category').count().withColumnRenamed('count','no_prd').orderBy('no_prd',descending=True).limit(10).show()"
   ]
  },
  {
   "cell_type": "code",
   "execution_count": 10,
   "id": "b96286ea",
   "metadata": {},
   "outputs": [],
   "source": [
    "#  1.5. What are the product names and prices of products that have a price greater than $200 and belong to category 5?"
   ]
  },
  {
   "cell_type": "code",
   "execution_count": 11,
   "id": "33cb2fa8",
   "metadata": {},
   "outputs": [
    {
     "name": "stdout",
     "output_type": "stream",
     "text": [
      "+------------------------------------------------+------+\n",
      "|Productname                                     |price |\n",
      "+------------------------------------------------+------+\n",
      "|\"Goaliath 54\"\" In-Ground Basketball Hoop with P\"|499.99|\n",
      "|Fitness Gear 300 lb Olympic Weight Set          |209.99|\n",
      "|Teeter Hang Ups NXT-S Inversion Table           |299.99|\n",
      "+------------------------------------------------+------+\n",
      "\n"
     ]
    }
   ],
   "source": [
    "main_df.select('Productname','price').filter('price > 200 and Category = 5').show(truncate=False)"
   ]
  },
  {
   "cell_type": "markdown",
   "id": "1053cf79",
   "metadata": {},
   "source": [
    "Question 2  Write the spark program using Dataframes for the below tasks"
   ]
  },
  {
   "cell_type": "code",
   "execution_count": 13,
   "id": "0641331d",
   "metadata": {},
   "outputs": [],
   "source": [
    "# cust_id,cust_fname,cust_lname,cust_email,cust_password,cust_street,cust_city,cust_state,cust_zipcode"
   ]
  },
  {
   "cell_type": "code",
   "execution_count": 14,
   "id": "b28bbb82",
   "metadata": {},
   "outputs": [],
   "source": [
    "schema = ('cust_id string,cust_fname string,cust_lname string ,cust_email string,cust_password string,cust_street string,cust_city string,cust_state string,cust_zipcode string')"
   ]
  },
  {
   "cell_type": "code",
   "execution_count": 15,
   "id": "a3bdc9a5",
   "metadata": {},
   "outputs": [],
   "source": [
    "customers_main_df = spark.read \\\n",
    ".format('csv') \\\n",
    ".schema(schema) \\\n",
    ".load('/public/trendytech/retail_db/customers/part-00000')"
   ]
  },
  {
   "cell_type": "code",
   "execution_count": 16,
   "id": "955936e7",
   "metadata": {},
   "outputs": [
    {
     "name": "stdout",
     "output_type": "stream",
     "text": [
      "+-------+-----------+----------+----------+-------------+--------------------+-------------+----------+------------+\n",
      "|cust_id| cust_fname|cust_lname|cust_email|cust_password|         cust_street|    cust_city|cust_state|cust_zipcode|\n",
      "+-------+-----------+----------+----------+-------------+--------------------+-------------+----------+------------+\n",
      "|      1|    Richard| Hernandez| XXXXXXXXX|    XXXXXXXXX|  6303 Heather Plaza|  Brownsville|        TX|       78521|\n",
      "|      2|       Mary|   Barrett| XXXXXXXXX|    XXXXXXXXX|9526 Noble Embers...|    Littleton|        CO|       80126|\n",
      "|      3|        Ann|     Smith| XXXXXXXXX|    XXXXXXXXX|3422 Blue Pioneer...|       Caguas|        PR|       00725|\n",
      "|      4|       Mary|     Jones| XXXXXXXXX|    XXXXXXXXX|  8324 Little Common|   San Marcos|        CA|       92069|\n",
      "|      5|     Robert|    Hudson| XXXXXXXXX|    XXXXXXXXX|10 Crystal River ...|       Caguas|        PR|       00725|\n",
      "|      6|       Mary|     Smith| XXXXXXXXX|    XXXXXXXXX|3151 Sleepy Quail...|      Passaic|        NJ|       07055|\n",
      "|      7|    Melissa|    Wilcox| XXXXXXXXX|    XXXXXXXXX|9453 High Concession|       Caguas|        PR|       00725|\n",
      "|      8|      Megan|     Smith| XXXXXXXXX|    XXXXXXXXX|3047 Foggy Forest...|     Lawrence|        MA|       01841|\n",
      "|      9|       Mary|     Perez| XXXXXXXXX|    XXXXXXXXX| 3616 Quaking Street|       Caguas|        PR|       00725|\n",
      "|     10|    Melissa|     Smith| XXXXXXXXX|    XXXXXXXXX|8598 Harvest Beac...|     Stafford|        VA|       22554|\n",
      "|     11|       Mary|   Huffman| XXXXXXXXX|    XXXXXXXXX|    3169 Stony Woods|       Caguas|        PR|       00725|\n",
      "|     12|Christopher|     Smith| XXXXXXXXX|    XXXXXXXXX|5594 Jagged Ember...|  San Antonio|        TX|       78227|\n",
      "|     13|       Mary|   Baldwin| XXXXXXXXX|    XXXXXXXXX|7922 Iron Oak Gar...|       Caguas|        PR|       00725|\n",
      "|     14|  Katherine|     Smith| XXXXXXXXX|    XXXXXXXXX|5666 Hazy Pony Sq...|  Pico Rivera|        CA|       90660|\n",
      "|     15|       Jane|      Luna| XXXXXXXXX|    XXXXXXXXX|    673 Burning Glen|      Fontana|        CA|       92336|\n",
      "|     16|    Tiffany|     Smith| XXXXXXXXX|    XXXXXXXXX|      6651 Iron Port|       Caguas|        PR|       00725|\n",
      "|     17|       Mary|  Robinson| XXXXXXXXX|    XXXXXXXXX|     1325 Noble Pike|       Taylor|        MI|       48180|\n",
      "|     18|     Robert|     Smith| XXXXXXXXX|    XXXXXXXXX|2734 Hazy Butterf...|     Martinez|        CA|       94553|\n",
      "|     19|  Stephanie|  Mitchell| XXXXXXXXX|    XXXXXXXXX|3543 Red Treasure...|       Caguas|        PR|       00725|\n",
      "|     20|       Mary|     Ellis| XXXXXXXXX|    XXXXXXXXX|      4703 Old Route|West New York|        NJ|       07093|\n",
      "+-------+-----------+----------+----------+-------------+--------------------+-------------+----------+------------+\n",
      "only showing top 20 rows\n",
      "\n"
     ]
    }
   ],
   "source": [
    "customers_main_df.show()"
   ]
  },
  {
   "cell_type": "code",
   "execution_count": 17,
   "id": "e3a816d7",
   "metadata": {},
   "outputs": [
    {
     "name": "stdout",
     "output_type": "stream",
     "text": [
      "+----------+-------+\n",
      "|cust_state|no_cust|\n",
      "+----------+-------+\n",
      "|        PR|   4771|\n",
      "|        CA|   2012|\n",
      "|        NY|    775|\n",
      "|        TX|    635|\n",
      "|        IL|    523|\n",
      "|        FL|    374|\n",
      "|        OH|    276|\n",
      "|        PA|    261|\n",
      "|        MI|    254|\n",
      "|        NJ|    219|\n",
      "|        AZ|    213|\n",
      "|        GA|    169|\n",
      "|        MD|    164|\n",
      "|        NC|    150|\n",
      "|        VA|    136|\n",
      "|        CO|    122|\n",
      "|        OR|    119|\n",
      "|        MA|    113|\n",
      "|        TN|    104|\n",
      "|        NV|    103|\n",
      "+----------+-------+\n",
      "only showing top 20 rows\n",
      "\n"
     ]
    }
   ],
   "source": [
    "#  3.1. Find the total number of customers in each state.\n",
    "customers_main_df.groupBy('cust_state').count().withColumnRenamed('count','no_cust').orderBy('no_cust',ascending = False).show()"
   ]
  },
  {
   "cell_type": "code",
   "execution_count": 18,
   "id": "02fcd9e6",
   "metadata": {},
   "outputs": [
    {
     "name": "stdout",
     "output_type": "stream",
     "text": [
      "+----------+-----------+\n",
      "|cust_lname|lname_count|\n",
      "+----------+-----------+\n",
      "|     Smith|       4626|\n",
      "|   Johnson|         76|\n",
      "|  Williams|         69|\n",
      "|     Jones|         65|\n",
      "|     Brown|         62|\n",
      "+----------+-----------+\n",
      "\n"
     ]
    }
   ],
   "source": [
    "#  3.2. Find the top 5 most common last names among the customers.\n",
    "# Approach - group based on last names, count,orerby,limit 5\n",
    "\n",
    "customers_main_df.groupBy('cust_lname').count().withColumnRenamed('count','lname_count').orderBy('lname_count',ascending = False).limit(5).show()"
   ]
  },
  {
   "cell_type": "code",
   "execution_count": 19,
   "id": "6414e6a1",
   "metadata": {},
   "outputs": [
    {
     "data": {
      "text/plain": [
       "0"
      ]
     },
     "execution_count": 19,
     "metadata": {},
     "output_type": "execute_result"
    }
   ],
   "source": [
    "#  3.3. Check whether there are any customers whose zip codes are not valid (i.e., not equal to 5 digits).\n",
    "\n",
    "from pyspark.sql.functions import length\n",
    "customers_main_df.filter(length('cust_zipcode')!=5).count()"
   ]
  },
  {
   "cell_type": "code",
   "execution_count": 20,
   "id": "37171d34",
   "metadata": {},
   "outputs": [
    {
     "data": {
      "text/plain": [
       "12435"
      ]
     },
     "execution_count": 20,
     "metadata": {},
     "output_type": "execute_result"
    }
   ],
   "source": [
    "#  3.4. Check whether there are any customers whose zip codes are valid\n",
    "customers_main_df.filter(length('cust_zipcode')==5).count()"
   ]
  },
  {
   "cell_type": "code",
   "execution_count": 21,
   "id": "7b30c019",
   "metadata": {},
   "outputs": [
    {
     "name": "stdout",
     "output_type": "stream",
     "text": [
      "+--------------+-----+\n",
      "|     cust_city|count|\n",
      "+--------------+-----+\n",
      "|   Los Angeles|  224|\n",
      "|     San Diego|  104|\n",
      "|      San Jose|   71|\n",
      "|   Bakersfield|   41|\n",
      "|     Santa Ana|   36|\n",
      "|    Long Beach|   36|\n",
      "|        Fresno|   29|\n",
      "|     Escondido|   29|\n",
      "|       Ontario|   29|\n",
      "| San Francisco|   28|\n",
      "|     Riverside|   27|\n",
      "| Mission Viejo|   26|\n",
      "|     Oceanside|   24|\n",
      "|    Sacramento|   23|\n",
      "|       Modesto|   23|\n",
      "|       Fremont|   22|\n",
      "|       Hayward|   21|\n",
      "| Moreno Valley|   21|\n",
      "|   Simi Valley|   20|\n",
      "|San Bernardino|   20|\n",
      "+--------------+-----+\n",
      "only showing top 20 rows\n",
      "\n"
     ]
    }
   ],
   "source": [
    "#  3.5. Find the number of customers from each city in the state of California(CA).\n",
    "customers_main_df.filter('cust_state = \"CA\"').groupBy('cust_city').count().orderBy('count',ascending = False).show()"
   ]
  },
  {
   "cell_type": "code",
   "execution_count": 22,
   "id": "96755938",
   "metadata": {},
   "outputs": [],
   "source": [
    "# spark.stop()"
   ]
  }
 ],
 "metadata": {
  "kernelspec": {
   "display_name": "Pyspark 3",
   "language": "python",
   "name": "pyspark3"
  },
  "language_info": {
   "codemirror_mode": {
    "name": "ipython",
    "version": 3
   },
   "file_extension": ".py",
   "mimetype": "text/x-python",
   "name": "python",
   "nbconvert_exporter": "python",
   "pygments_lexer": "ipython3",
   "version": "3.6.12"
  }
 },
 "nbformat": 4,
 "nbformat_minor": 5
}
