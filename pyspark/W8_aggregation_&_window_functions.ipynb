{
 "cells": [
  {
   "cell_type": "code",
   "execution_count": 1,
   "id": "a0bf73e1",
   "metadata": {},
   "outputs": [],
   "source": [
    " from pyspark.sql import SparkSession\n",
    " import getpass\n",
    " username = getpass.getuser()\n",
    " spark= SparkSession. \\\n",
    " builder. \\\n",
    " config('spark.ui.port','0'). \\\n",
    " config(\"spark.sql.warehouse.dir\", f\"/user/{username}/warehouse\"). \\\n",
    " enableHiveSupport(). \\\n",
    " master('yarn'). \\\n",
    " getOrCreate()"
   ]
  },
  {
   "cell_type": "code",
   "execution_count": 2,
   "id": "70f3f884",
   "metadata": {},
   "outputs": [
    {
     "data": {
      "text/html": [
       "\n",
       "            <div>\n",
       "                <p><b>SparkSession - hive</b></p>\n",
       "                \n",
       "        <div>\n",
       "            <p><b>SparkContext</b></p>\n",
       "\n",
       "            <p><a href=\"http://g02.itversity.com:33645\">Spark UI</a></p>\n",
       "\n",
       "            <dl>\n",
       "              <dt>Version</dt>\n",
       "                <dd><code>v3.1.2</code></dd>\n",
       "              <dt>Master</dt>\n",
       "                <dd><code>yarn</code></dd>\n",
       "              <dt>AppName</dt>\n",
       "                <dd><code>pyspark-shell</code></dd>\n",
       "            </dl>\n",
       "        </div>\n",
       "        \n",
       "            </div>\n",
       "        "
      ],
      "text/plain": [
       "<pyspark.sql.session.SparkSession at 0x7f5abbdb1518>"
      ]
     },
     "execution_count": 2,
     "metadata": {},
     "output_type": "execute_result"
    }
   ],
   "source": [
    "spark"
   ]
  },
  {
   "cell_type": "code",
   "execution_count": 3,
   "id": "d1b7bfe0",
   "metadata": {},
   "outputs": [
    {
     "name": "stdout",
     "output_type": "stream",
     "text": [
      "﻿InvoiceNo,StockCode,Description,Quantity,InvoiceDate,UnitPrice,CustomerID,Country\n",
      "536378,,PACK OF 60 DINOSAUR CAKE CASES,24,01-12-2010 9.37,0.55,14688,United Kingdom\n",
      "536378,,PACK OF 60 PINK PAISLEY CAKE CASES,24,01-12-2010 9.37,0.55,14688,United Kingdom\n",
      "536378,84991,60 TEATIME FAIRY CAKE CASES,24,01-12-2010 9.37,0.55,14688,United Kingdom\n",
      "536378,84519A,TOMATO CHARLIE+LOLA COASTER SET,6,01-12-2010 9.37,2.95,14688,United Kingdom\n",
      "536378,85183B,CHARLIE & LOLA WASTEPAPER BIN FLORA,48,01-12-2010 9.37,1.25,14688,United Kingdom\n",
      "536378,85071B,RED CHARLIE+LOLA PERSONAL DOORSIGN,96,01-12-2010 9.37,0.38,14688,United Kingdom\n",
      "536378,21931,JUMBO STORAGE BAG SUKI,10,01-12-2010 9.37,1.95,14688,United Kingdom\n",
      "536378,21929,JUMBO BAG PINK VINTAGE PAISLEY,10,01-12-2010 9.37,1.95,14688,United Kingdom\n",
      "536380,22961,JAM MAKING SET PRINTED,24,01-12-2010 9.41,1.45,17809,United Kingdom\n",
      "536381,22139,RETROSPOT TEA SET CERAMIC 11 PC ,23,01-12-2010 9.41,4.25,15311,United Kingdom\n",
      "536381,84854,GIRLY PINK TOOL SET,5,01-12-2010 9.4"
     ]
    }
   ],
   "source": [
    "# ! hadoop fs -ls -h /public/trendytech/datasets/order_data.csv\n",
    "! hadoop fs -head /public/trendytech/datasets/order_data.csv\n",
    "# ! hadoop fs -ls -h /public/trendytech/datasets/order_data.csv"
   ]
  },
  {
   "cell_type": "markdown",
   "id": "72959b30",
   "metadata": {},
   "source": [
    "## Aggregations:\n",
    "\n",
    "    Simple_agg,  Grouping _agg,  Window_agg"
   ]
  },
  {
   "cell_type": "code",
   "execution_count": 4,
   "id": "77bb7512",
   "metadata": {},
   "outputs": [],
   "source": [
    "# Infering schema\n",
    "orders_df = spark.read \\\n",
    ".format(\"csv\") \\\n",
    ".option(\"inferSchema\", \"true\") \\\n",
    ".option(\"header\",\"true\") \\\n",
    ".load(\"/public/trendytech/datasets/order_data.csv\")"
   ]
  },
  {
   "cell_type": "code",
   "execution_count": 5,
   "id": "1c6ffc02",
   "metadata": {},
   "outputs": [
    {
     "name": "stdout",
     "output_type": "stream",
     "text": [
      "+---------+---------+-----------------------------------+--------+---------------+---------+----------+--------------+\n",
      "|InvoiceNo|StockCode|Description                        |Quantity|InvoiceDate    |UnitPrice|CustomerID|Country       |\n",
      "+---------+---------+-----------------------------------+--------+---------------+---------+----------+--------------+\n",
      "|536378   |null     |PACK OF 60 DINOSAUR CAKE CASES     |24      |01-12-2010 9.37|0.55     |14688     |United Kingdom|\n",
      "|536378   |null     |PACK OF 60 PINK PAISLEY CAKE CASES |24      |01-12-2010 9.37|0.55     |14688     |United Kingdom|\n",
      "|536378   |84991    |60 TEATIME FAIRY CAKE CASES        |24      |01-12-2010 9.37|0.55     |14688     |United Kingdom|\n",
      "|536378   |84519A   |TOMATO CHARLIE+LOLA COASTER SET    |6       |01-12-2010 9.37|2.95     |14688     |United Kingdom|\n",
      "|536378   |85183B   |CHARLIE & LOLA WASTEPAPER BIN FLORA|48      |01-12-2010 9.37|1.25     |14688     |United Kingdom|\n",
      "|536378   |85071B   |RED CHARLIE+LOLA PERSONAL DOORSIGN |96      |01-12-2010 9.37|0.38     |14688     |United Kingdom|\n",
      "|536378   |21931    |JUMBO STORAGE BAG SUKI             |10      |01-12-2010 9.37|1.95     |14688     |United Kingdom|\n",
      "|536378   |21929    |JUMBO BAG PINK VINTAGE PAISLEY     |10      |01-12-2010 9.37|1.95     |14688     |United Kingdom|\n",
      "|536380   |22961    |JAM MAKING SET PRINTED             |24      |01-12-2010 9.41|1.45     |17809     |United Kingdom|\n",
      "|536381   |22139    |RETROSPOT TEA SET CERAMIC 11 PC    |23      |01-12-2010 9.41|4.25     |15311     |United Kingdom|\n",
      "|536381   |84854    |GIRLY PINK TOOL SET                |5       |01-12-2010 9.41|4.95     |15311     |United Kingdom|\n",
      "|536381   |22411    |JUMBO SHOPPER VINTAGE RED PAISLEY  |10      |01-12-2010 9.41|1.95     |15311     |United Kingdom|\n",
      "|536381   |82567    |AIRLINE LOUNGE,METAL SIGN          |2       |01-12-2010 9.41|2.1      |15311     |United Kingdom|\n",
      "|536381   |21672    |WHITE SPOT RED CERAMIC DRAWER KNOB |6       |01-12-2010 9.41|1.25     |15311     |United Kingdom|\n",
      "|536381   |22774    |RED DRAWER KNOB ACRYLIC EDWARDIAN  |24      |01-12-2010 9.41|1.25     |15311     |United Kingdom|\n",
      "|536381   |22771    |CLEAR DRAWER KNOB ACRYLIC EDWARDIAN|24      |01-12-2010 9.41|1.25     |15311     |United Kingdom|\n",
      "|536381   |71270    |PHOTO CLIP LINE                    |1       |01-12-2010 9.41|1.25     |15311     |United Kingdom|\n",
      "|536381   |22262    |FELT EGG COSY CHICKEN              |1       |01-12-2010 9.41|0.85     |15311     |United Kingdom|\n",
      "|536381   |22637    |PIGGY BANK RETROSPOT               |1       |01-12-2010 9.41|2.55     |15311     |United Kingdom|\n",
      "|536381   |21934    |SKULL SHOULDER BAG                 |10      |01-12-2010 9.41|1.65     |15311     |United Kingdom|\n",
      "+---------+---------+-----------------------------------+--------+---------------+---------+----------+--------------+\n",
      "only showing top 20 rows\n",
      "\n"
     ]
    }
   ],
   "source": [
    "orders_df.show(truncate=False)"
   ]
  },
  {
   "cell_type": "code",
   "execution_count": 6,
   "id": "9531e1b2",
   "metadata": {},
   "outputs": [
    {
     "name": "stdout",
     "output_type": "stream",
     "text": [
      "root\n",
      " |-- InvoiceNo: string (nullable = true)\n",
      " |-- StockCode: string (nullable = true)\n",
      " |-- Description: string (nullable = true)\n",
      " |-- Quantity: integer (nullable = true)\n",
      " |-- InvoiceDate: string (nullable = true)\n",
      " |-- UnitPrice: double (nullable = true)\n",
      " |-- CustomerID: integer (nullable = true)\n",
      " |-- Country: string (nullable = true)\n",
      "\n"
     ]
    }
   ],
   "source": [
    "orders_df.printSchema()\n",
    "# But the date fileds are string, so trying to enforme schema"
   ]
  },
  {
   "cell_type": "code",
   "execution_count": 7,
   "id": "c80a3b45",
   "metadata": {},
   "outputs": [],
   "source": [
    "from pyspark.sql import *\n",
    "from pyspark.sql.functions import *"
   ]
  },
  {
   "cell_type": "code",
   "execution_count": 8,
   "id": "13252969",
   "metadata": {},
   "outputs": [
    {
     "name": "stdout",
     "output_type": "stream",
     "text": [
      "+----------+---------------------+------------------+\n",
      "|ttl_counts|unique_invoice_counts|    avg_unit_price|\n",
      "+----------+---------------------+------------------+\n",
      "|    541782|                25858|4.6115653233219325|\n",
      "+----------+---------------------+------------------+\n",
      "\n"
     ]
    }
   ],
   "source": [
    "# Simple aggregartions - Finally 1 output\n",
    "#1) Similary we can perform using spark sql by creating a temp table\n",
    "\n",
    "orders_df.select(count('*').alias(\"ttl_counts\") \\\n",
    "                 ,countDistinct(\"InvoiceNo\").alias(\"unique_invoice_counts\") \\\n",
    "                 ,avg(\"UnitPrice\").alias(\"avg_unit_price\")\n",
    "                 ).show()"
   ]
  },
  {
   "cell_type": "code",
   "execution_count": 9,
   "id": "b0900438",
   "metadata": {},
   "outputs": [],
   "source": [
    "# 2)grouping aggregations\n",
    "summary_df = orders_df.groupBy(\"country\",\"invoiceno\") \\\n",
    ".agg(sum(\"quantity\").alias(\"total_quantity\"),sum(expr(\"quantity * unitprice\")).alias(\"invoice_value\")).sort(\"invoiceno\")"
   ]
  },
  {
   "cell_type": "code",
   "execution_count": 10,
   "id": "bff95b56",
   "metadata": {},
   "outputs": [
    {
     "name": "stdout",
     "output_type": "stream",
     "text": [
      "+--------------+---------+--------------+------------------+\n",
      "|       country|invoiceno|total_quantity|     invoice_value|\n",
      "+--------------+---------+--------------+------------------+\n",
      "|United Kingdom|   536378|           242|192.78000000000003|\n",
      "|United Kingdom|   536380|            24|              34.8|\n",
      "|United Kingdom|   536381|           198|449.97999999999996|\n",
      "|United Kingdom|   536382|           134|430.59999999999997|\n",
      "|United Kingdom|   536384|           190|             489.6|\n",
      "|United Kingdom|   536385|            53|            130.85|\n",
      "|United Kingdom|   536386|           236|508.20000000000005|\n",
      "|United Kingdom|   536387|          1440|           3193.92|\n",
      "|United Kingdom|   536388|           108|            226.14|\n",
      "|     Australia|   536389|           107|            358.25|\n",
      "|United Kingdom|   536390|          1568|           1825.74|\n",
      "|United Kingdom|   536392|           103|318.14000000000004|\n",
      "|United Kingdom|   536393|             8|              79.6|\n",
      "|United Kingdom|   536394|           544|1024.6800000000003|\n",
      "|United Kingdom|   536395|           260| 507.8800000000001|\n",
      "|United Kingdom|   536396|           102|376.36000000000007|\n",
      "|United Kingdom|   536397|            60|             279.0|\n",
      "|United Kingdom|   536398|           150|426.56000000000006|\n",
      "|United Kingdom|   536399|            12|22.200000000000003|\n",
      "|United Kingdom|   536400|            12|              17.4|\n",
      "+--------------+---------+--------------+------------------+\n",
      "only showing top 20 rows\n",
      "\n"
     ]
    }
   ],
   "source": [
    "summary_df.show()"
   ]
  },
  {
   "cell_type": "code",
   "execution_count": null,
   "id": "d88e7729",
   "metadata": {},
   "outputs": [],
   "source": []
  },
  {
   "cell_type": "code",
   "execution_count": 11,
   "id": "0f4d5989",
   "metadata": {},
   "outputs": [],
   "source": [
    "# 3)window aggreagtion \n",
    "orders_wn_df = spark.read \\\n",
    ".format(\"csv\") \\\n",
    ".option(\"inferSchema\",\"true\") \\\n",
    ".option(\"header\", \"true\") \\\n",
    ".load(\"/public/trendytech/datasets/windowdata.csv\")"
   ]
  },
  {
   "cell_type": "code",
   "execution_count": 12,
   "id": "dbb64c0f",
   "metadata": {},
   "outputs": [
    {
     "name": "stdout",
     "output_type": "stream",
     "text": [
      "+---------------+-------+-----------+-------------+------------+\n",
      "|        country|weeknum|numinvoices|totalquantity|invoicevalue|\n",
      "+---------------+-------+-----------+-------------+------------+\n",
      "|      Australia|     49|          1|          214|       258.9|\n",
      "|      Australia|     48|          1|          107|      358.25|\n",
      "|      Australia|     50|          2|          133|      387.95|\n",
      "|        Austria|     50|          2|            3|      257.04|\n",
      "|        Bahrain|     51|          1|           54|      205.74|\n",
      "|        Belgium|     48|          1|          528|       346.1|\n",
      "|        Belgium|     50|          2|          285|      625.16|\n",
      "|        Belgium|     51|          2|          942|      838.65|\n",
      "|Channel Islands|     49|          1|           80|      363.53|\n",
      "|         Cyprus|     50|          1|          917|     1590.82|\n",
      "|        Denmark|     49|          1|          454|      1281.5|\n",
      "|        Finland|     50|          1|         1254|       892.8|\n",
      "|         France|     49|          9|         2303|     4527.01|\n",
      "|         France|     48|          4|         1299|     2808.16|\n",
      "|         France|     51|          5|          847|     1702.87|\n",
      "|         France|     50|          6|          529|      537.32|\n",
      "|        Germany|     48|         11|         1795|     3309.75|\n",
      "|        Germany|     50|         15|         1973|     5065.79|\n",
      "|        Germany|     49|         12|         1852|     4521.39|\n",
      "|        Germany|     51|          5|         1103|     1665.91|\n",
      "+---------------+-------+-----------+-------------+------------+\n",
      "only showing top 20 rows\n",
      "\n"
     ]
    }
   ],
   "source": [
    "orders_wn_df.sort(\"country\").show()"
   ]
  },
  {
   "cell_type": "code",
   "execution_count": 13,
   "id": "e2fb68a9",
   "metadata": {},
   "outputs": [],
   "source": [
    "# 4). calculate the running total of invoice value over a given window.\n",
    "#     sol:\n",
    "#         define a window, order based a column, define a widow size , use this window on the df"
   ]
  },
  {
   "cell_type": "code",
   "execution_count": 14,
   "id": "5ed2f0b6",
   "metadata": {},
   "outputs": [],
   "source": [
    "mywindow  = Window.partitionBy(\"country\") \\\n",
    ".orderBy(\"weeknum\") \\\n",
    ".rowsBetween(Window.unboundedPreceding,Window.currentRow)"
   ]
  },
  {
   "cell_type": "code",
   "execution_count": 15,
   "id": "4b23741d",
   "metadata": {},
   "outputs": [],
   "source": [
    "result_df = orders_wn_df.withColumn(\"running_ttl\",sum(\"invoicevalue\").over(mywindow))"
   ]
  },
  {
   "cell_type": "code",
   "execution_count": 16,
   "id": "13a9cbf6",
   "metadata": {},
   "outputs": [
    {
     "name": "stdout",
     "output_type": "stream",
     "text": [
      "+-------+-------+-----------+-------------+------------+------------------+\n",
      "|country|weeknum|numinvoices|totalquantity|invoicevalue|       running_ttl|\n",
      "+-------+-------+-----------+-------------+------------+------------------+\n",
      "| Sweden|     50|          3|         3714|      2646.3|            2646.3|\n",
      "|Germany|     48|         11|         1795|     3309.75|           3309.75|\n",
      "|Germany|     49|         12|         1852|     4521.39|           7831.14|\n",
      "|Germany|     50|         15|         1973|     5065.79|          12896.93|\n",
      "|Germany|     51|          5|         1103|     1665.91|          14562.84|\n",
      "| France|     48|          4|         1299|     2808.16|           2808.16|\n",
      "| France|     49|          9|         2303|     4527.01|           7335.17|\n",
      "| France|     50|          6|          529|      537.32|           7872.49|\n",
      "| France|     51|          5|          847|     1702.87|           9575.36|\n",
      "|Belgium|     48|          1|          528|       346.1|             346.1|\n",
      "|Belgium|     50|          2|          285|      625.16|            971.26|\n",
      "|Belgium|     51|          2|          942|      838.65|1809.9099999999999|\n",
      "|Finland|     50|          1|         1254|       892.8|             892.8|\n",
      "|  India|     48|          7|         2822|     3147.23|           3147.23|\n",
      "|  India|     49|          5|         1280|      3284.1|           6431.33|\n",
      "|  India|     50|          5|         1184|     2321.78|           8753.11|\n",
      "|  India|     51|          5|           95|      276.84|           9029.95|\n",
      "|  Italy|     48|          1|          164|       427.8|             427.8|\n",
      "|  Italy|     49|          1|           -2|       -17.0|             410.8|\n",
      "|  Italy|     51|          1|          131|       383.7|             794.5|\n",
      "+-------+-------+-----------+-------------+------------+------------------+\n",
      "only showing top 20 rows\n",
      "\n"
     ]
    }
   ],
   "source": [
    "result_df.show()"
   ]
  },
  {
   "cell_type": "code",
   "execution_count": 17,
   "id": "00057242",
   "metadata": {},
   "outputs": [],
   "source": [
    "# .rowsBetween(Window.unboundedPreceding,Window.currentRow)\n",
    "# unboundedPreceding - will include considers values in partition from the 1st values\n",
    "    # for Germany \n",
    "    # 3309.75 = 1st value\n",
    "    #  3309.75+4521.39 = 2nd value\n",
    "    #  3309.75+4521.39+ 5065.79  = 3rd value \n",
    "\n",
    "# .rowsBetween(-2,Window.currentRow) (3 rows will be summed, current value and 2 above)\n",
    "    # if you had a 4th value for Germany - then 4th+3r+2nd\n",
    "    #  i.e 4521.39+ 5065.79+1665.91 = 14562.84"
   ]
  },
  {
   "cell_type": "markdown",
   "id": "a0e292b8",
   "metadata": {},
   "source": [
    "# Window Functions"
   ]
  },
  {
   "cell_type": "code",
   "execution_count": 18,
   "id": "d2d6f12d",
   "metadata": {},
   "outputs": [],
   "source": [
    "# 5) Generate rank , dense_rank, row_number based on the invoice_value for each country \n",
    "orders_wn1_df = spark.read \\\n",
    ".format(\"csv\") \\\n",
    ".option(\"inferSchema\",\"true\") \\\n",
    ".option(\"header\", \"true\") \\\n",
    ".load(\"/public/trendytech/datasets/windowdatamodified.csv\")"
   ]
  },
  {
   "cell_type": "code",
   "execution_count": 19,
   "id": "42b8a570",
   "metadata": {},
   "outputs": [
    {
     "name": "stdout",
     "output_type": "stream",
     "text": [
      "+--------------+-------+-----------+-------------+------------+\n",
      "|       country|weeknum|numinvoices|totalquantity|invoicevalue|\n",
      "+--------------+-------+-----------+-------------+------------+\n",
      "|         Spain|     49|          1|           67|      174.72|\n",
      "|       Germany|     48|         11|         1795|      1600.0|\n",
      "|     Lithuania|     48|          3|          622|     1598.06|\n",
      "|       Germany|     49|         12|         1852|      1800.0|\n",
      "|       Bahrain|     51|          1|           54|      205.74|\n",
      "|       Iceland|     49|          1|          319|      711.79|\n",
      "|         India|     51|          5|           95|       300.0|\n",
      "|     Australia|     50|          2|          133|      387.95|\n",
      "|         Italy|     49|          1|           -2|       -17.0|\n",
      "|         India|     49|          5|         1280|      3284.1|\n",
      "|         Spain|     50|          2|          400|     1049.01|\n",
      "|United Kingdom|     51|        200|        28782|    75103.46|\n",
      "|        Norway|     49|          1|         1730|     1867.98|\n",
      "|United Kingdom|     48|        478|        68865|   166116.72|\n",
      "|        France|     51|          5|          847|       500.0|\n",
      "|      Portugal|     49|          4|          726|     1844.67|\n",
      "|         Spain|     48|          1|          400|       620.0|\n",
      "|         India|     48|          7|         2822|       300.0|\n",
      "|       Germany|     50|         15|         1973|      1800.0|\n",
      "|         Italy|     51|          1|          131|       383.7|\n",
      "+--------------+-------+-----------+-------------+------------+\n",
      "only showing top 20 rows\n",
      "\n"
     ]
    }
   ],
   "source": [
    "orders_wn1_df.show()"
   ]
  },
  {
   "cell_type": "code",
   "execution_count": 20,
   "id": "f8eeefb3",
   "metadata": {},
   "outputs": [],
   "source": [
    "# from pyspark.sql import *\n",
    "from pyspark.sql.functions import *"
   ]
  },
  {
   "cell_type": "code",
   "execution_count": 21,
   "id": "e9054afd",
   "metadata": {},
   "outputs": [
    {
     "name": "stdout",
     "output_type": "stream",
     "text": [
      "+-------+-------+-----------+-------------+------------+---+\n",
      "|country|weeknum|numinvoices|totalquantity|invoicevalue|rnk|\n",
      "+-------+-------+-----------+-------------+------------+---+\n",
      "| Sweden|     50|          3|         3714|      2646.3|  1|\n",
      "|Germany|     48|         11|         1795|      1600.0|  1|\n",
      "|Germany|     51|          5|         1103|      1600.0|  1|\n",
      "|Germany|     49|         12|         1852|      1800.0|  3|\n",
      "|Germany|     50|         15|         1973|      1800.0|  3|\n",
      "| France|     51|          5|          847|       500.0|  1|\n",
      "| France|     49|          9|         2303|       500.0|  1|\n",
      "| France|     48|          4|         1299|       500.0|  1|\n",
      "| France|     50|          6|          529|      537.32|  4|\n",
      "|Belgium|     50|          2|          285|      625.16|  1|\n",
      "|Belgium|     48|          1|          528|       800.0|  2|\n",
      "|Belgium|     51|          2|          942|       800.0|  2|\n",
      "|Finland|     50|          1|         1254|       892.8|  1|\n",
      "|  India|     51|          5|           95|       300.0|  1|\n",
      "|  India|     48|          7|         2822|       300.0|  1|\n",
      "|  India|     50|          5|         1184|     2321.78|  3|\n",
      "|  India|     49|          5|         1280|      3284.1|  4|\n",
      "|  Italy|     49|          1|           -2|       -17.0|  1|\n",
      "|  Italy|     51|          1|          131|       383.7|  2|\n",
      "|  Italy|     48|          1|          164|       427.8|  3|\n",
      "+-------+-------+-----------+-------------+------------+---+\n",
      "only showing top 20 rows\n",
      "\n"
     ]
    }
   ],
   "source": [
    "window1 = Window.partitionBy(\"country\").orderBy(\"invoicevalue\")\n",
    "orders_wn1_df.withColumn(\"rnk\",rank().over(window1)).show()\n",
    "# rank - rank being skipped"
   ]
  },
  {
   "cell_type": "code",
   "execution_count": 22,
   "id": "22d2c328",
   "metadata": {},
   "outputs": [
    {
     "name": "stdout",
     "output_type": "stream",
     "text": [
      "+-------+-------+-----------+-------------+------------+------+\n",
      "|country|weeknum|numinvoices|totalquantity|invoicevalue|dn_rnk|\n",
      "+-------+-------+-----------+-------------+------------+------+\n",
      "| Sweden|     50|          3|         3714|      2646.3|     1|\n",
      "|Germany|     48|         11|         1795|      1600.0|     1|\n",
      "|Germany|     51|          5|         1103|      1600.0|     1|\n",
      "|Germany|     49|         12|         1852|      1800.0|     2|\n",
      "|Germany|     50|         15|         1973|      1800.0|     2|\n",
      "| France|     51|          5|          847|       500.0|     1|\n",
      "| France|     49|          9|         2303|       500.0|     1|\n",
      "| France|     48|          4|         1299|       500.0|     1|\n",
      "| France|     50|          6|          529|      537.32|     2|\n",
      "|Belgium|     50|          2|          285|      625.16|     1|\n",
      "|Belgium|     48|          1|          528|       800.0|     2|\n",
      "|Belgium|     51|          2|          942|       800.0|     2|\n",
      "|Finland|     50|          1|         1254|       892.8|     1|\n",
      "|  India|     51|          5|           95|       300.0|     1|\n",
      "|  India|     48|          7|         2822|       300.0|     1|\n",
      "|  India|     50|          5|         1184|     2321.78|     2|\n",
      "|  India|     49|          5|         1280|      3284.1|     3|\n",
      "|  Italy|     49|          1|           -2|       -17.0|     1|\n",
      "|  Italy|     51|          1|          131|       383.7|     2|\n",
      "|  Italy|     48|          1|          164|       427.8|     3|\n",
      "+-------+-------+-----------+-------------+------------+------+\n",
      "only showing top 20 rows\n",
      "\n"
     ]
    }
   ],
   "source": [
    "orders_wn1_df.withColumn(\"dn_rnk\",dense_rank().over(window1)).show()\n",
    "# dense_rnk  - Not skipping the values"
   ]
  },
  {
   "cell_type": "code",
   "execution_count": 23,
   "id": "ab9cc09d",
   "metadata": {},
   "outputs": [
    {
     "name": "stdout",
     "output_type": "stream",
     "text": [
      "+-------+-------+-----------+-------------+------------+------+\n",
      "|country|weeknum|numinvoices|totalquantity|invoicevalue|row_no|\n",
      "+-------+-------+-----------+-------------+------------+------+\n",
      "| Sweden|     50|          3|         3714|      2646.3|     1|\n",
      "|Germany|     48|         11|         1795|      1600.0|     1|\n",
      "|Germany|     51|          5|         1103|      1600.0|     2|\n",
      "|Germany|     49|         12|         1852|      1800.0|     3|\n",
      "|Germany|     50|         15|         1973|      1800.0|     4|\n",
      "| France|     51|          5|          847|       500.0|     1|\n",
      "| France|     49|          9|         2303|       500.0|     2|\n",
      "| France|     48|          4|         1299|       500.0|     3|\n",
      "| France|     50|          6|          529|      537.32|     4|\n",
      "|Belgium|     50|          2|          285|      625.16|     1|\n",
      "|Belgium|     48|          1|          528|       800.0|     2|\n",
      "|Belgium|     51|          2|          942|       800.0|     3|\n",
      "|Finland|     50|          1|         1254|       892.8|     1|\n",
      "|  India|     51|          5|           95|       300.0|     1|\n",
      "|  India|     48|          7|         2822|       300.0|     2|\n",
      "|  India|     50|          5|         1184|     2321.78|     3|\n",
      "|  India|     49|          5|         1280|      3284.1|     4|\n",
      "|  Italy|     49|          1|           -2|       -17.0|     1|\n",
      "|  Italy|     51|          1|          131|       383.7|     2|\n",
      "|  Italy|     48|          1|          164|       427.8|     3|\n",
      "+-------+-------+-----------+-------------+------------+------+\n",
      "only showing top 20 rows\n",
      "\n"
     ]
    }
   ],
   "source": [
    "orders_wn1_df.withColumn(\"row_no\",row_number().over(window1)).show()\n",
    "# row_number - generating cotinous values"
   ]
  },
  {
   "cell_type": "code",
   "execution_count": 24,
   "id": "e27ab7f3",
   "metadata": {},
   "outputs": [],
   "source": [
    "# Lead and lag\n",
    "# 6)compare the invoice values for a country with its previous week"
   ]
  },
  {
   "cell_type": "code",
   "execution_count": 25,
   "id": "67796b54",
   "metadata": {},
   "outputs": [
    {
     "name": "stdout",
     "output_type": "stream",
     "text": [
      "+-------+-------+-----------+-------------+------------+-------------+\n",
      "|country|weeknum|numinvoices|totalquantity|invoicevalue|previous_week|\n",
      "+-------+-------+-----------+-------------+------------+-------------+\n",
      "| Sweden|     50|          3|         3714|      2646.3|         null|\n",
      "|Germany|     48|         11|         1795|      1600.0|         null|\n",
      "|Germany|     49|         12|         1852|      1800.0|       1600.0|\n",
      "|Germany|     50|         15|         1973|      1800.0|       1800.0|\n",
      "|Germany|     51|          5|         1103|      1600.0|       1800.0|\n",
      "| France|     48|          4|         1299|       500.0|         null|\n",
      "| France|     49|          9|         2303|       500.0|        500.0|\n",
      "| France|     50|          6|          529|      537.32|        500.0|\n",
      "| France|     51|          5|          847|       500.0|       537.32|\n",
      "|Belgium|     48|          1|          528|       800.0|         null|\n",
      "|Belgium|     50|          2|          285|      625.16|        800.0|\n",
      "|Belgium|     51|          2|          942|       800.0|       625.16|\n",
      "|Finland|     50|          1|         1254|       892.8|         null|\n",
      "|  India|     48|          7|         2822|       300.0|         null|\n",
      "|  India|     49|          5|         1280|      3284.1|        300.0|\n",
      "|  India|     50|          5|         1184|     2321.78|       3284.1|\n",
      "|  India|     51|          5|           95|       300.0|      2321.78|\n",
      "|  Italy|     48|          1|          164|       427.8|         null|\n",
      "|  Italy|     49|          1|           -2|       -17.0|        427.8|\n",
      "|  Italy|     51|          1|          131|       383.7|        -17.0|\n",
      "+-------+-------+-----------+-------------+------------+-------------+\n",
      "only showing top 20 rows\n",
      "\n"
     ]
    }
   ],
   "source": [
    "wind_3 = Window.partitionBy(\"country\").orderBy(\"weeknum\")\n",
    "orders_wn1_df.withColumn(\"previous_week\",lag(\"invoicevalue\").over(wind_3)).show()"
   ]
  },
  {
   "cell_type": "code",
   "execution_count": 26,
   "id": "f047a231",
   "metadata": {},
   "outputs": [
    {
     "name": "stdout",
     "output_type": "stream",
     "text": [
      "+-------+-------+-----------+-------------+------------+---------+\n",
      "|country|weeknum|numinvoices|totalquantity|invoicevalue|next_week|\n",
      "+-------+-------+-----------+-------------+------------+---------+\n",
      "| Sweden|     50|          3|         3714|      2646.3|     null|\n",
      "|Germany|     48|         11|         1795|      1600.0|   1800.0|\n",
      "|Germany|     49|         12|         1852|      1800.0|   1800.0|\n",
      "|Germany|     50|         15|         1973|      1800.0|   1600.0|\n",
      "|Germany|     51|          5|         1103|      1600.0|     null|\n",
      "| France|     48|          4|         1299|       500.0|    500.0|\n",
      "| France|     49|          9|         2303|       500.0|   537.32|\n",
      "| France|     50|          6|          529|      537.32|    500.0|\n",
      "| France|     51|          5|          847|       500.0|     null|\n",
      "|Belgium|     48|          1|          528|       800.0|   625.16|\n",
      "|Belgium|     50|          2|          285|      625.16|    800.0|\n",
      "|Belgium|     51|          2|          942|       800.0|     null|\n",
      "|Finland|     50|          1|         1254|       892.8|     null|\n",
      "|  India|     48|          7|         2822|       300.0|   3284.1|\n",
      "|  India|     49|          5|         1280|      3284.1|  2321.78|\n",
      "|  India|     50|          5|         1184|     2321.78|    300.0|\n",
      "|  India|     51|          5|           95|       300.0|     null|\n",
      "|  Italy|     48|          1|          164|       427.8|    -17.0|\n",
      "|  Italy|     49|          1|           -2|       -17.0|    383.7|\n",
      "|  Italy|     51|          1|          131|       383.7|     null|\n",
      "+-------+-------+-----------+-------------+------------+---------+\n",
      "only showing top 20 rows\n",
      "\n"
     ]
    }
   ],
   "source": [
    "# example for lead\n",
    "wind_3 = Window.partitionBy(\"country\").orderBy(\"weeknum\")\n",
    "orders_wn1_df.withColumn(\"next_week\",lead(\"invoicevalue\").over(wind_3)).show()"
   ]
  },
  {
   "cell_type": "code",
   "execution_count": 27,
   "id": "9186643a",
   "metadata": {},
   "outputs": [],
   "source": [
    "# 7) Build a df with sample data ,with proper schema, strip the month from the date filed"
   ]
  },
  {
   "cell_type": "code",
   "execution_count": 28,
   "id": "1ae25f82",
   "metadata": {},
   "outputs": [],
   "source": [
    " logs_data = [(\"INFO\",\"2015-8-8 20:49:22\"),\n",
    " (\"WARN\",\"2015-1-14 20:05:00\"),\n",
    " (\"INFO\",\"2017-6-14 00:08:35\"),\n",
    " (\"INFO\",\"2016-1-18 11:50:14\"),\n",
    " (\"DEBUG\",\"2017-7-1 12:55:02\"),\n",
    " (\"INFO\",\"2014-2-26 12:34:21\"),\n",
    " (\"INFO\",\"2015-7-12 11:13:47\"),\n",
    " (\"INFO\",\"2017-4-15 01:20:18\"),\n",
    " (\"DEBUG\",\"2016-11-2 20:19:23\"),\n",
    " (\"INFO\",\"2012-8-20 10:09:44\")] "
   ]
  },
  {
   "cell_type": "code",
   "execution_count": 29,
   "id": "9617338f",
   "metadata": {},
   "outputs": [
    {
     "name": "stdout",
     "output_type": "stream",
     "text": [
      "+---------+------------------+\n",
      "|log_level|          log_time|\n",
      "+---------+------------------+\n",
      "|     INFO| 2015-8-8 20:49:22|\n",
      "|     WARN|2015-1-14 20:05:00|\n",
      "|     INFO|2017-6-14 00:08:35|\n",
      "|     INFO|2016-1-18 11:50:14|\n",
      "|    DEBUG| 2017-7-1 12:55:02|\n",
      "|     INFO|2014-2-26 12:34:21|\n",
      "|     INFO|2015-7-12 11:13:47|\n",
      "|     INFO|2017-4-15 01:20:18|\n",
      "|    DEBUG|2016-11-2 20:19:23|\n",
      "|     INFO|2012-8-20 10:09:44|\n",
      "+---------+------------------+\n",
      "\n"
     ]
    }
   ],
   "source": [
    "sample_df = spark.createDataFrame(logs_data).toDF('log_level','log_time')\n",
    "sample_df.show()"
   ]
  },
  {
   "cell_type": "code",
   "execution_count": 30,
   "id": "d615a138",
   "metadata": {},
   "outputs": [],
   "source": [
    "sample_df_t1 = sample_df.withColumn(\"log_time\",to_timestamp(\"log_time\"))"
   ]
  },
  {
   "cell_type": "code",
   "execution_count": 31,
   "id": "5508e0f8",
   "metadata": {},
   "outputs": [
    {
     "name": "stdout",
     "output_type": "stream",
     "text": [
      "+---------+-------------------+\n",
      "|log_level|           log_time|\n",
      "+---------+-------------------+\n",
      "|     INFO|2015-08-08 20:49:22|\n",
      "|     WARN|2015-01-14 20:05:00|\n",
      "|     INFO|2017-06-14 00:08:35|\n",
      "|     INFO|2016-01-18 11:50:14|\n",
      "|    DEBUG|2017-07-01 12:55:02|\n",
      "|     INFO|2014-02-26 12:34:21|\n",
      "|     INFO|2015-07-12 11:13:47|\n",
      "|     INFO|2017-04-15 01:20:18|\n",
      "|    DEBUG|2016-11-02 20:19:23|\n",
      "|     INFO|2012-08-20 10:09:44|\n",
      "+---------+-------------------+\n",
      "\n"
     ]
    }
   ],
   "source": [
    "sample_df_t1.show()"
   ]
  },
  {
   "cell_type": "code",
   "execution_count": 32,
   "id": "6f40ebd4",
   "metadata": {},
   "outputs": [
    {
     "name": "stdout",
     "output_type": "stream",
     "text": [
      "root\n",
      " |-- log_level: string (nullable = true)\n",
      " |-- log_time: timestamp (nullable = true)\n",
      "\n"
     ]
    }
   ],
   "source": [
    "sample_df_t1.printSchema()"
   ]
  },
  {
   "cell_type": "code",
   "execution_count": 33,
   "id": "d18763f4",
   "metadata": {},
   "outputs": [],
   "source": [
    "sample_df_mnth = sample_df_t1.withColumn('mnth',month(\"log_time\"))"
   ]
  },
  {
   "cell_type": "code",
   "execution_count": 34,
   "id": "384ede1e",
   "metadata": {},
   "outputs": [
    {
     "name": "stdout",
     "output_type": "stream",
     "text": [
      "+---------+-------------------+----+\n",
      "|log_level|           log_time|mnth|\n",
      "+---------+-------------------+----+\n",
      "|     INFO|2015-08-08 20:49:22|   8|\n",
      "|     WARN|2015-01-14 20:05:00|   1|\n",
      "|     INFO|2017-06-14 00:08:35|   6|\n",
      "|     INFO|2016-01-18 11:50:14|   1|\n",
      "|    DEBUG|2017-07-01 12:55:02|   7|\n",
      "|     INFO|2014-02-26 12:34:21|   2|\n",
      "|     INFO|2015-07-12 11:13:47|   7|\n",
      "|     INFO|2017-04-15 01:20:18|   4|\n",
      "|    DEBUG|2016-11-02 20:19:23|  11|\n",
      "|     INFO|2012-08-20 10:09:44|   8|\n",
      "+---------+-------------------+----+\n",
      "\n"
     ]
    }
   ],
   "source": [
    "sample_df_mnth.show()"
   ]
  },
  {
   "cell_type": "code",
   "execution_count": 35,
   "id": "8e4ce693",
   "metadata": {},
   "outputs": [
    {
     "name": "stdout",
     "output_type": "stream",
     "text": [
      "+---------+----+------+\n",
      "|log_level|mnth|counts|\n",
      "+---------+----+------+\n",
      "|    DEBUG|   7|     1|\n",
      "|    DEBUG|  11|     1|\n",
      "|     INFO|   2|     1|\n",
      "|     INFO|   8|     2|\n",
      "|     INFO|   7|     1|\n",
      "|     INFO|   1|     1|\n",
      "|     INFO|   4|     1|\n",
      "|     INFO|   6|     1|\n",
      "|     WARN|   1|     1|\n",
      "+---------+----+------+\n",
      "\n"
     ]
    }
   ],
   "source": [
    "# count of logs at a month level\n",
    "sample_df_mnth.groupBy(\"log_level\",\"mnth\").agg(count(\"mnth\").alias(\"counts\")).sort(\"log_level\").show()"
   ]
  },
  {
   "cell_type": "code",
   "execution_count": 36,
   "id": "197475cf",
   "metadata": {},
   "outputs": [],
   "source": [
    "# 8) Calculate the running_total month wise\n",
    " revenue_data = [(2000,\"01-Jan-2020\"),\n",
    " (3000,\"02-Jan-2020\"),\n",
    " (45000,\"22-Jan-2020\"),\n",
    " (40000,\"02-Feb-2020\"),\n",
    " (13000,\"01-Mar-2020\")]"
   ]
  },
  {
   "cell_type": "code",
   "execution_count": 37,
   "id": "d4b6d0b3",
   "metadata": {},
   "outputs": [],
   "source": [
    "raw_df = spark.createDataFrame(revenue_data)"
   ]
  },
  {
   "cell_type": "code",
   "execution_count": 38,
   "id": "3aa4be19",
   "metadata": {},
   "outputs": [],
   "source": [
    "trans_df = raw_df.toDF(\"revenue\",\"Date\")"
   ]
  },
  {
   "cell_type": "code",
   "execution_count": 39,
   "id": "49993e10",
   "metadata": {},
   "outputs": [],
   "source": [
    "trans_df1 = trans_df.withColumn(\"Date\",to_date(\"Date\",\"dd-MMM-yyyy\"))"
   ]
  },
  {
   "cell_type": "code",
   "execution_count": 40,
   "id": "3f863df9",
   "metadata": {},
   "outputs": [
    {
     "name": "stdout",
     "output_type": "stream",
     "text": [
      "+-------+----------+\n",
      "|revenue|      Date|\n",
      "+-------+----------+\n",
      "|   2000|2020-01-01|\n",
      "|   3000|2020-01-02|\n",
      "|  45000|2020-01-22|\n",
      "|  40000|2020-02-02|\n",
      "|  13000|2020-03-01|\n",
      "+-------+----------+\n",
      "\n"
     ]
    }
   ],
   "source": [
    "trans_df1.show()"
   ]
  },
  {
   "cell_type": "code",
   "execution_count": 41,
   "id": "e7b95348",
   "metadata": {},
   "outputs": [
    {
     "name": "stdout",
     "output_type": "stream",
     "text": [
      "root\n",
      " |-- revenue: long (nullable = true)\n",
      " |-- Date: date (nullable = true)\n",
      "\n"
     ]
    }
   ],
   "source": [
    "trans_df1.printSchema()"
   ]
  },
  {
   "cell_type": "code",
   "execution_count": 42,
   "id": "3a11529f",
   "metadata": {},
   "outputs": [
    {
     "name": "stdout",
     "output_type": "stream",
     "text": [
      "+-------+----------+----+\n",
      "|revenue|      Date|mnth|\n",
      "+-------+----------+----+\n",
      "|   2000|2020-01-01|   1|\n",
      "|   3000|2020-01-02|   1|\n",
      "|  45000|2020-01-22|   1|\n",
      "|  40000|2020-02-02|   2|\n",
      "|  13000|2020-03-01|   3|\n",
      "+-------+----------+----+\n",
      "\n"
     ]
    }
   ],
   "source": [
    "trans_mnth = trans_df1.withColumn(\"mnth\", month(\"date\"))\n",
    "trans_mnth.show()"
   ]
  },
  {
   "cell_type": "code",
   "execution_count": 43,
   "id": "96c4aca0",
   "metadata": {},
   "outputs": [],
   "source": [
    "df_grp = trans_mnth.groupBy(\"mnth\").agg(sum(\"revenue\").alias(\"ttl_revn\")).sort(\"mnth\")"
   ]
  },
  {
   "cell_type": "code",
   "execution_count": 44,
   "id": "0867eab6",
   "metadata": {},
   "outputs": [
    {
     "name": "stdout",
     "output_type": "stream",
     "text": [
      "+----+--------+\n",
      "|mnth|ttl_revn|\n",
      "+----+--------+\n",
      "|   1|   50000|\n",
      "|   2|   40000|\n",
      "|   3|   13000|\n",
      "+----+--------+\n",
      "\n"
     ]
    }
   ],
   "source": [
    "df_grp.show()"
   ]
  },
  {
   "cell_type": "code",
   "execution_count": 45,
   "id": "ca2d84c1",
   "metadata": {},
   "outputs": [],
   "source": [
    "mywin = Window.orderBy(\"mnth\").rowsBetween(Window.unboundedPreceding,Window.currentRow)"
   ]
  },
  {
   "cell_type": "code",
   "execution_count": 46,
   "id": "7a07d653",
   "metadata": {},
   "outputs": [
    {
     "name": "stdout",
     "output_type": "stream",
     "text": [
      "+----+--------+------------+\n",
      "|mnth|ttl_revn|running_ttlt|\n",
      "+----+--------+------------+\n",
      "|   1|   50000|       50000|\n",
      "|   2|   40000|       90000|\n",
      "|   3|   13000|      103000|\n",
      "+----+--------+------------+\n",
      "\n"
     ]
    }
   ],
   "source": [
    "df_grp.withColumn(\"running_ttlt\",sum(\"ttl_revn\").over(mywin)).show()"
   ]
  },
  {
   "cell_type": "code",
   "execution_count": 47,
   "id": "c0c94f0d",
   "metadata": {},
   "outputs": [],
   "source": [
    "spark.stop()"
   ]
  }
 ],
 "metadata": {
  "kernelspec": {
   "display_name": "Pyspark 3",
   "language": "python",
   "name": "pyspark3"
  },
  "language_info": {
   "codemirror_mode": {
    "name": "ipython",
    "version": 3
   },
   "file_extension": ".py",
   "mimetype": "text/x-python",
   "name": "python",
   "nbconvert_exporter": "python",
   "pygments_lexer": "ipython3",
   "version": "3.6.12"
  }
 },
 "nbformat": 4,
 "nbformat_minor": 5
}
