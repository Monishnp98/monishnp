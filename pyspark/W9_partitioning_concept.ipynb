{
 "cells": [
  {
   "cell_type": "code",
   "execution_count": 9,
   "id": "8731437b",
   "metadata": {},
   "outputs": [],
   "source": [
    "from pyspark.sql import SparkSession\n",
    "\n",
    "import getpass\n",
    "username = getpass.getuser()\n",
    "spark= SparkSession. \\\n",
    "builder. \\\n",
    "config('spark.ui.port','0'). \\\n",
    "config(\"spark.sql.warehouse.dir\", f\"/user/{username}/warehouse\"). \\\n",
    "enableHiveSupport(). \\\n",
    "master('yarn'). \\\n",
    "getOrCreate()"
   ]
  },
  {
   "cell_type": "code",
   "execution_count": 10,
   "id": "e8933980",
   "metadata": {},
   "outputs": [
    {
     "data": {
      "text/html": [
       "\n",
       "            <div>\n",
       "                <p><b>SparkSession - hive</b></p>\n",
       "                \n",
       "        <div>\n",
       "            <p><b>SparkContext</b></p>\n",
       "\n",
       "            <p><a href=\"http://g02.itversity.com:39593\">Spark UI</a></p>\n",
       "\n",
       "            <dl>\n",
       "              <dt>Version</dt>\n",
       "                <dd><code>v3.1.2</code></dd>\n",
       "              <dt>Master</dt>\n",
       "                <dd><code>yarn</code></dd>\n",
       "              <dt>AppName</dt>\n",
       "                <dd><code>pyspark-shell</code></dd>\n",
       "            </dl>\n",
       "        </div>\n",
       "        \n",
       "            </div>\n",
       "        "
      ],
      "text/plain": [
       "<pyspark.sql.session.SparkSession at 0x7f3f805e75f8>"
      ]
     },
     "execution_count": 10,
     "metadata": {},
     "output_type": "execute_result"
    }
   ],
   "source": [
    "spark"
   ]
  },
  {
   "cell_type": "code",
   "execution_count": 11,
   "id": "bea694cf",
   "metadata": {},
   "outputs": [],
   "source": [
    "# Read all the files under the folder /public/airlines_all/airlines and create a dataframe.\n",
    "# (No need to infer the schema, nor you have to define it)"
   ]
  },
  {
   "cell_type": "code",
   "execution_count": 12,
   "id": "82e0e564",
   "metadata": {},
   "outputs": [],
   "source": [
    "airline_df_base =spark.read \\\n",
    ".format(\"csv\") \\\n",
    ".load(\"/public/airlines_all/airlines/*\")"
   ]
  },
  {
   "cell_type": "code",
   "execution_count": 13,
   "id": "53ed8386",
   "metadata": {},
   "outputs": [
    {
     "data": {
      "text/plain": [
       "960"
      ]
     },
     "execution_count": 13,
     "metadata": {},
     "output_type": "execute_result"
    }
   ],
   "source": [
    "airline_df_base.rdd.getNumPartitions()"
   ]
  },
  {
   "cell_type": "code",
   "execution_count": 14,
   "id": "97c01d93",
   "metadata": {},
   "outputs": [
    {
     "name": "stdout",
     "output_type": "stream",
     "text": [
      "1920\n"
     ]
    }
   ],
   "source": [
    "! hadoop fs -ls /public/airlines_all/airlines | grep  'part-0' | wc -l"
   ]
  },
  {
   "cell_type": "markdown",
   "id": "497e7219",
   "metadata": {},
   "source": [
    "1)we have 1920 part file each of 64 mb only one file was less then 60 mb.\n",
    "when we created a df we got 1919 partitions.\n",
    "\n",
    "2)This is becase - deafault block size is 128mb , In the above case 2 file can't be merged to create one partition as it will cross 128mb.\n",
    "\n",
    "3)One file was was less then 60 - this was merged with the one 128 mb block and resulted a 128 mb block. This resulted in 1919 partitons in df"
   ]
  },
  {
   "cell_type": "code",
   "execution_count": null,
   "id": "209465e6",
   "metadata": {},
   "outputs": [],
   "source": []
  },
  {
   "cell_type": "markdown",
   "id": "6c46a8bb",
   "metadata": {},
   "source": [
    "Now we increased the parition size to approx 140mb. \n",
    "\n",
    "2 blocks can be merged into one and when we create df now we will get 960 partitions"
   ]
  },
  {
   "cell_type": "code",
   "execution_count": 15,
   "id": "897baf86",
   "metadata": {},
   "outputs": [],
   "source": [
    "from pyspark.sql import SparkSession\n",
    "\n",
    "import getpass\n",
    "username = getpass.getuser()\n",
    "spark= SparkSession. \\\n",
    "builder. \\\n",
    "config('spark.sql.files.maxPartitionBytes', '146800640'). \\\n",
    "config('spark.ui.port','0'). \\\n",
    "config(\"spark.sql.warehouse.dir\", f\"/user/{username}/warehouse\"). \\\n",
    "enableHiveSupport(). \\\n",
    "master('yarn'). \\\n",
    "getOrCreate()"
   ]
  },
  {
   "cell_type": "code",
   "execution_count": 16,
   "id": "d1b101d4",
   "metadata": {},
   "outputs": [],
   "source": [
    "airline_df_modifies =spark.read \\\n",
    ".format(\"csv\") \\\n",
    ".load(\"/public/airlines_all/airlines/*\")"
   ]
  },
  {
   "cell_type": "code",
   "execution_count": 17,
   "id": "2f19293f",
   "metadata": {},
   "outputs": [
    {
     "data": {
      "text/plain": [
       "960"
      ]
     },
     "execution_count": 17,
     "metadata": {},
     "output_type": "execute_result"
    }
   ],
   "source": [
    "airline_df_modifies.rdd.getNumPartitions()"
   ]
  }
 ],
 "metadata": {
  "kernelspec": {
   "display_name": "Pyspark 3",
   "language": "python",
   "name": "pyspark3"
  },
  "language_info": {
   "codemirror_mode": {
    "name": "ipython",
    "version": 3
   },
   "file_extension": ".py",
   "mimetype": "text/x-python",
   "name": "python",
   "nbconvert_exporter": "python",
   "pygments_lexer": "ipython3",
   "version": "3.6.12"
  }
 },
 "nbformat": 4,
 "nbformat_minor": 5
}
