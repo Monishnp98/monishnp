{
 "cells": [
  {
   "cell_type": "code",
   "execution_count": 1,
   "id": "27246bae",
   "metadata": {},
   "outputs": [],
   "source": [
    "from pyspark.sql import SparkSession\n",
    "\n",
    "import getpass\n",
    "username = getpass.getuser()\n",
    "spark= SparkSession. \\\n",
    "builder. \\\n",
    "config('spark.ui.port','0'). \\\n",
    "config(\"spark.sql.warehouse.dir\", f\"/user/{username}/warehouse\"). \\\n",
    "enableHiveSupport(). \\\n",
    "master('yarn'). \\\n",
    "getOrCreate()"
   ]
  },
  {
   "cell_type": "code",
   "execution_count": 2,
   "id": "c5829952",
   "metadata": {},
   "outputs": [
    {
     "data": {
      "text/html": [
       "\n",
       "            <div>\n",
       "                <p><b>SparkSession - hive</b></p>\n",
       "                \n",
       "        <div>\n",
       "            <p><b>SparkContext</b></p>\n",
       "\n",
       "            <p><a href=\"http://g02.itversity.com:46711\">Spark UI</a></p>\n",
       "\n",
       "            <dl>\n",
       "              <dt>Version</dt>\n",
       "                <dd><code>v3.1.2</code></dd>\n",
       "              <dt>Master</dt>\n",
       "                <dd><code>yarn</code></dd>\n",
       "              <dt>AppName</dt>\n",
       "                <dd><code>pyspark-shell</code></dd>\n",
       "            </dl>\n",
       "        </div>\n",
       "        \n",
       "            </div>\n",
       "        "
      ],
      "text/plain": [
       "<pyspark.sql.session.SparkSession at 0x7fe53b5d95c0>"
      ]
     },
     "execution_count": 2,
     "metadata": {},
     "output_type": "execute_result"
    }
   ],
   "source": [
    "spark"
   ]
  },
  {
   "cell_type": "code",
   "execution_count": 3,
   "id": "ef431610",
   "metadata": {},
   "outputs": [],
   "source": [
    "# Read all the files under the folder /public/airlines_all/airlines and create a dataframe.\n",
    "# (No need to infer the schema, nor you have to define it)"
   ]
  },
  {
   "cell_type": "code",
   "execution_count": 4,
   "id": "36d7566e",
   "metadata": {},
   "outputs": [],
   "source": [
    "airline_df_base =spark.read \\\n",
    ".format(\"csv\") \\\n",
    ".load(\"/public/airlines_all/airlines/*\")"
   ]
  },
  {
   "cell_type": "code",
   "execution_count": 5,
   "id": "41c3c080",
   "metadata": {},
   "outputs": [
    {
     "data": {
      "text/plain": [
       "1919"
      ]
     },
     "execution_count": 5,
     "metadata": {},
     "output_type": "execute_result"
    }
   ],
   "source": [
    "airline_df_base.rdd.getNumPartitions()"
   ]
  },
  {
   "cell_type": "code",
   "execution_count": 6,
   "id": "30b3148c",
   "metadata": {},
   "outputs": [
    {
     "name": "stdout",
     "output_type": "stream",
     "text": [
      "1920\n"
     ]
    }
   ],
   "source": [
    "! hadoop fs -ls /public/airlines_all/airlines | grep  'part-0' | wc -l"
   ]
  },
  {
   "cell_type": "markdown",
   "id": "40b004e6",
   "metadata": {},
   "source": [
    "1)we have 1920 part file each of 64 mb only one file was less then 60 mb.\n",
    "when we created a df we got 1919 partitions.\n",
    "\n",
    "2)This is becase - deafault block size is 128mb , In the above case 2 file can't be merged to create one partition as it will cross 128mb.\n",
    "\n",
    "3)One file was was less then 60 - this was merged with the one 128 mb block and resulted a 128 mb block. This resulted in 1919 partitons in df"
   ]
  },
  {
   "cell_type": "code",
   "execution_count": null,
   "id": "a6060dcf",
   "metadata": {},
   "outputs": [],
   "source": []
  },
  {
   "cell_type": "markdown",
   "id": "f4022b38",
   "metadata": {},
   "source": [
    "Now we increased the parition size to approx 140mb. \n",
    "\n",
    "2 blocks can be merged into one and when we create df now we will get 960 partitions"
   ]
  },
  {
   "cell_type": "code",
   "execution_count": 7,
   "id": "d62af8f5",
   "metadata": {},
   "outputs": [],
   "source": [
    "from pyspark.sql import SparkSession\n",
    "\n",
    "import getpass\n",
    "username = getpass.getuser()\n",
    "spark= SparkSession. \\\n",
    "builder. \\\n",
    "config('spark.sql.files.maxPartitionBytes', '146800640'). \\\n",
    "config('spark.ui.port','0'). \\\n",
    "config(\"spark.sql.warehouse.dir\", f\"/user/{username}/warehouse\"). \\\n",
    "enableHiveSupport(). \\\n",
    "master('yarn'). \\\n",
    "getOrCreate()"
   ]
  },
  {
   "cell_type": "code",
   "execution_count": 8,
   "id": "c8559d7e",
   "metadata": {},
   "outputs": [],
   "source": [
    "airline_df_modifies =spark.read \\\n",
    ".format(\"csv\") \\\n",
    ".load(\"/public/airlines_all/airlines/*\")"
   ]
  },
  {
   "cell_type": "code",
   "execution_count": 9,
   "id": "5fdb1586",
   "metadata": {},
   "outputs": [
    {
     "data": {
      "text/plain": [
       "960"
      ]
     },
     "execution_count": 9,
     "metadata": {},
     "output_type": "execute_result"
    }
   ],
   "source": [
    "airline_df_modifies.rdd.getNumPartitions()"
   ]
  }
 ],
 "metadata": {
  "kernelspec": {
   "display_name": "Pyspark 3",
   "language": "python",
   "name": "pyspark3"
  },
  "language_info": {
   "codemirror_mode": {
    "name": "ipython",
    "version": 3
   },
   "file_extension": ".py",
   "mimetype": "text/x-python",
   "name": "python",
   "nbconvert_exporter": "python",
   "pygments_lexer": "ipython3",
   "version": "3.6.12"
  }
 },
 "nbformat": 4,
 "nbformat_minor": 5
}
